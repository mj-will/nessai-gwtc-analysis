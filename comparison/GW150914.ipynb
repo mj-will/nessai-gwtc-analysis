{
 "cells": [
  {
   "cell_type": "code",
   "execution_count": null,
   "metadata": {},
   "outputs": [],
   "source": [
    "import glob\n",
    "import os\n",
    "\n",
    "os.environ[\"HDF5_USE_FILE_LOCKING\"] = \"FALSE\"\n",
    "\n",
    "import bilby\n",
    "import corner\n",
    "import h5py\n",
    "import matplotlib.pyplot as plt\n",
    "from matplotlib.lines import Line2D\n",
    "import numpy as np\n",
    "import numpy.lib.recfunctions as rfn\n",
    "from scipy import stats\n",
    "import seaborn as sns\n",
    "from pesummary.core.plots.publication import reverse_triangle_plot\n",
    "\n",
    "\n",
    "from thesis_utils.gw import get_cbc_parameter_labels\n",
    "from thesis_utils.plotting import (\n",
    "    set_plotting,\n",
    "    save_figure,\n",
    "    get_default_corner_kwargs,\n",
    "    get_default_figsize,\n",
    ")\n",
    "import thesis_utils.colours as thesis_colours\n",
    "\n",
    "set_plotting()"
   ]
  },
  {
   "cell_type": "code",
   "execution_count": null,
   "metadata": {},
   "outputs": [],
   "source": [
    "nessai_result = bilby.core.result.read_in_result(\n",
    "    \"/home/michael.williams/git_repos/nessai-gwtc-1/analysis/IMRPhenomXPHM/outdir_nessai_gwtc_1_GW150914_cal_reweight_XPHM/final_result/nessai_gwtc_1_GW150914_XPHM_data0_1126259462-391_analysis_H1L1_merge_result.hdf5\"\n",
    ")"
   ]
  },
  {
   "cell_type": "code",
   "execution_count": null,
   "metadata": {},
   "outputs": [],
   "source": [
    "nessai_result"
   ]
  },
  {
   "cell_type": "code",
   "execution_count": null,
   "metadata": {},
   "outputs": [],
   "source": [
    "parameters = [\n",
    "    \"mass_1\",\n",
    "    \"mass_2\",\n",
    "    \"a_1\",\n",
    "    \"a_2\",\n",
    "    \"ra\",\n",
    "    \"dec\",\n",
    "    \"luminosity_distance\",\n",
    "    \"theta_jn\",\n",
    "    \"psi\",\n",
    "    \"phase\",\n",
    "    # \"geocent_time\",\n",
    "]\n",
    "\n",
    "corner_kwargs = get_default_corner_kwargs()\n",
    "corner_kwargs[\"plot_density\"] = True\n",
    "corner_kwargs[\"plot_datapoints\"] = False\n",
    "corner_kwargs[\"no_fill_contours\"] = True\n",
    "corner_kwargs[\"show_titles\"] = False\n",
    "corner_kwargs.pop(\"fill_contours\")\n",
    "corner_kwargs[\"levels\"] = (1 - np.exp(-0.5), 1 - np.exp(-2), 1 - np.exp(-9 / 2.0))\n",
    "corner_kwargs[\"quantiles\"] = []\n",
    "corner_kwargs[\"smooth\"] = 2.0\n",
    "corner_kwargs[\"bins\"] = 50\n",
    "\n",
    "corner_kwargs[\"color\"] = thesis_colours.cobalt\n",
    "\n",
    "fig = plt.figure(figsize=(8, 8))\n",
    "\n",
    "fig = corner.corner(\n",
    "    np.array([nessai_result.posterior[p] for p in parameters]).T,\n",
    "    fig=fig,\n",
    "    labels=get_cbc_parameter_labels(parameters, units=True),\n",
    "    labelpad=0.2,\n",
    "    **corner_kwargs,\n",
    ")\n",
    "\n",
    "plt.show()\n",
    "fig.savefig(\"figures/presentations/GW150914/posterior.png\", transparent=True, dpi=200)"
   ]
  },
  {
   "cell_type": "code",
   "execution_count": null,
   "metadata": {},
   "outputs": [],
   "source": []
  }
 ],
 "metadata": {
  "kernelspec": {
   "display_name": "nessai-review-gw",
   "language": "python",
   "name": "python3"
  },
  "language_info": {
   "codemirror_mode": {
    "name": "ipython",
    "version": 3
   },
   "file_extension": ".py",
   "mimetype": "text/x-python",
   "name": "python",
   "nbconvert_exporter": "python",
   "pygments_lexer": "ipython3",
   "version": "3.9.16"
  }
 },
 "nbformat": 4,
 "nbformat_minor": 2
}
