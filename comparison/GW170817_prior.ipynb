{
 "cells": [
  {
   "cell_type": "code",
   "execution_count": null,
   "metadata": {},
   "outputs": [],
   "source": [
    "import h5py\n",
    "import bilby\n",
    "import numpy as np\n",
    "import matplotlib.pyplot as plt"
   ]
  },
  {
   "cell_type": "code",
   "execution_count": null,
   "metadata": {},
   "outputs": [],
   "source": [
    "with h5py.File(\n",
    "    \"/home/michael.williams/git_repos/nessai-gwtc-1/gwtc-1_sample_release/GW170817_GWTC-1.hdf5\",\n",
    "    \"r\",\n",
    ") as f:\n",
    "    samples = f[\"IMRPhenomPv2NRT_lowSpin_prior\"][:]"
   ]
  },
  {
   "cell_type": "code",
   "execution_count": null,
   "metadata": {},
   "outputs": [],
   "source": [
    "samples[\"m1_detector_frame_Msun\"]"
   ]
  },
  {
   "cell_type": "code",
   "execution_count": null,
   "metadata": {},
   "outputs": [],
   "source": [
    "bilby_priors = bilby.gw.prior.BNSPriorDict(filename=\"GW170817.prior\")"
   ]
  },
  {
   "cell_type": "code",
   "execution_count": null,
   "metadata": {},
   "outputs": [],
   "source": [
    "new_samples = bilby_priors.sample(10_000)"
   ]
  },
  {
   "cell_type": "code",
   "execution_count": null,
   "metadata": {},
   "outputs": [],
   "source": [
    "m1, m2 = bilby.gw.conversion.chirp_mass_and_mass_ratio_to_component_masses(\n",
    "    new_samples[\"chirp_mass\"], new_samples[\"mass_ratio\"]\n",
    ")"
   ]
  },
  {
   "cell_type": "code",
   "execution_count": null,
   "metadata": {},
   "outputs": [],
   "source": [
    "fig, axs = plt.subplots(1, 2)\n",
    "axs[0].hist2d(\n",
    "    samples[\"m1_detector_frame_Msun\"],\n",
    "    samples[\"m2_detector_frame_Msun\"],\n",
    "    32,\n",
    "    density=True,\n",
    ")\n",
    "axs[1].hist2d(m1, m2, 32, density=True)\n",
    "axs[0].set_xlabel(\"m1\")\n",
    "axs[0].set_ylabel(\"m2\")\n",
    "axs[1].set_xlabel(\"m2\")\n",
    "axs[0].set_title(\"LVK\")\n",
    "axs[1].set_title(\"Michael\")\n",
    "# axs[0].colorbar()\n",
    "plt.show()\n",
    "fig.savefig(\"figures/GW170817/prior_comparison.png\")"
   ]
  }
 ],
 "metadata": {
  "kernelspec": {
   "display_name": "nessai-review-gw",
   "language": "python",
   "name": "python3"
  },
  "language_info": {
   "codemirror_mode": {
    "name": "ipython",
    "version": 3
   },
   "file_extension": ".py",
   "mimetype": "text/x-python",
   "name": "python",
   "nbconvert_exporter": "python",
   "pygments_lexer": "ipython3",
   "version": "3.9.16"
  }
 },
 "nbformat": 4,
 "nbformat_minor": 2
}
