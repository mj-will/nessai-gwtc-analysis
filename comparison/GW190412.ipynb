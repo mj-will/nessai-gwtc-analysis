{
 "cells": [
  {
   "cell_type": "code",
   "execution_count": null,
   "metadata": {
    "execution": {
     "iopub.execute_input": "2023-05-25T14:28:38.802713Z",
     "iopub.status.busy": "2023-05-25T14:28:38.802466Z",
     "iopub.status.idle": "2023-05-25T14:28:41.128290Z",
     "shell.execute_reply": "2023-05-25T14:28:41.127635Z"
    }
   },
   "outputs": [],
   "source": [
    "import os\n",
    "\n",
    "os.environ[\"HDF5_USE_FILE_LOCKING\"] = \"FALSE\"\n",
    "\n",
    "import bilby\n",
    "import corner\n",
    "import glob\n",
    "import h5py\n",
    "import matplotlib.pyplot as plt\n",
    "from matplotlib.lines import Line2D\n",
    "import numpy as np\n",
    "import numpy.lib.recfunctions as rfn\n",
    "import tqdm\n",
    "import seaborn as sns\n",
    "from scipy import stats\n",
    "\n",
    "from importlib import reload\n",
    "\n",
    "import thesis_utils\n",
    "from thesis_utils.gw import get_cbc_parameter_labels\n",
    "\n",
    "reload(thesis_utils.gw.utils)\n",
    "from thesis_utils.plotting import (\n",
    "    set_plotting,\n",
    "    save_figure,\n",
    "    get_default_corner_kwargs,\n",
    "    get_default_figsize,\n",
    ")\n",
    "\n",
    "set_plotting()"
   ]
  },
  {
   "cell_type": "code",
   "execution_count": null,
   "metadata": {
    "execution": {
     "iopub.execute_input": "2023-05-25T14:28:41.131413Z",
     "iopub.status.busy": "2023-05-25T14:28:41.130810Z",
     "iopub.status.idle": "2023-05-25T14:28:59.741849Z",
     "shell.execute_reply": "2023-05-25T14:28:59.741219Z"
    }
   },
   "outputs": [],
   "source": [
    "posterior_path = \"/home/michael.williams/public_html/nessai-gwtc/O3/GW190412/samples/posterior_samples.h5\"\n",
    "samples = {}\n",
    "with h5py.File(posterior_path, \"r\") as f:\n",
    "    samples[\"gwtc2p1\"] = f[\"GWTC-2_1/posterior_samples\"][()]\n",
    "    samples[\"nessai\"] = f[\"nessai/posterior_samples\"][()]"
   ]
  },
  {
   "cell_type": "code",
   "execution_count": null,
   "metadata": {
    "execution": {
     "iopub.execute_input": "2023-05-25T14:28:59.744799Z",
     "iopub.status.busy": "2023-05-25T14:28:59.744493Z",
     "iopub.status.idle": "2023-05-25T14:29:01.718804Z",
     "shell.execute_reply": "2023-05-25T14:29:01.718118Z"
    }
   },
   "outputs": [],
   "source": [
    "parameters = [\"chirp_mass\", \"mass_ratio\"]\n",
    "colours = {\n",
    "    \"gwtc2p1\": \"k\",\n",
    "    \"nessai\": \"C0\",\n",
    "}\n",
    "labels = {\n",
    "    \"gwtc2p1\": \"GWTC-2.1\",\n",
    "    \"nessai\": r\"\\texttt{nessai}\",\n",
    "}\n",
    "\n",
    "corner_kwargs = get_default_corner_kwargs()\n",
    "corner_kwargs[\"plot_density\"] = True\n",
    "corner_kwargs[\"plot_datapoints\"] = False\n",
    "corner_kwargs[\"no_fill_contours\"] = True\n",
    "corner_kwargs[\"show_titles\"] = False\n",
    "corner_kwargs.pop(\"fill_contours\")\n",
    "corner_kwargs[\"levels\"] = (1 - np.exp(-0.5), 1 - np.exp(-2), 1 - np.exp(-9 / 2.0))\n",
    "corner_kwargs[\"quantiles\"] = [0.16, 0.84]\n",
    "corner_kwargs[\"smooth\"] = 0.9\n",
    "corner_kwargs[\"bins\"] = 32\n",
    "\n",
    "figsize = get_default_figsize()\n",
    "figsize[0] = figsize[1]\n",
    "fig = plt.figure(figsize=figsize)\n",
    "\n",
    "legend_elements = []\n",
    "\n",
    "corner_kwargs[\"hist_kwargs\"][\"ls\"] = \"-\"\n",
    "for i, (key, data) in enumerate(samples.items()):\n",
    "    corner_kwargs[\"color\"] = colours.get(key)\n",
    "    corner_kwargs[\"hist_kwargs\"][\"color\"] = colours.get(key)\n",
    "    fig = corner.corner(\n",
    "        rfn.structured_to_unstructured(data[parameters]),\n",
    "        fig=fig,\n",
    "        labels=get_cbc_parameter_labels(parameters, units=True),\n",
    "        labelpad=-0.1,\n",
    "        **corner_kwargs,\n",
    "    )\n",
    "    legend_elements.append(\n",
    "        Line2D([0], [0], color=colours.get(key), ls=\"-\", label=labels.get(key))\n",
    "    )\n",
    "\n",
    "\n",
    "fig.legend(\n",
    "    handles=legend_elements,\n",
    "    bbox_to_anchor=(0.75, 0.8),\n",
    "    loc=\"center\",\n",
    "    fontsize=12,\n",
    ")\n",
    "plt.show()\n",
    "save_figure(fig, \"GW190412_posterior\", \"figures/GW190412/\")"
   ]
  },
  {
   "cell_type": "code",
   "execution_count": null,
   "metadata": {
    "execution": {
     "iopub.execute_input": "2023-05-25T14:29:01.721941Z",
     "iopub.status.busy": "2023-05-25T14:29:01.721369Z",
     "iopub.status.idle": "2023-05-25T14:29:02.085011Z",
     "shell.execute_reply": "2023-05-25T14:29:02.084436Z"
    }
   },
   "outputs": [],
   "source": [
    "nessai_result_path = \"/home/michael.williams/git_repos/nessai-gwtc-1/analysis/O3/outdir_GW190412_IMRPhenomXPHM/result/GW190412_IMRPhenomXPHM_data0_1239082262-17041_analysis_H1L1V1_par*_nessai/result.hdf5\"\n",
    "indices = []\n",
    "nessai_result_files = glob.glob(nessai_result_path)\n",
    "for rf in nessai_result_files:\n",
    "    with h5py.File(rf, \"r\") as f:\n",
    "        indices.append(f[\"insertion_indices\"][()])"
   ]
  },
  {
   "cell_type": "code",
   "execution_count": null,
   "metadata": {
    "execution": {
     "iopub.execute_input": "2023-05-25T14:29:02.087704Z",
     "iopub.status.busy": "2023-05-25T14:29:02.087391Z",
     "iopub.status.idle": "2023-05-25T14:29:03.302501Z",
     "shell.execute_reply": "2023-05-25T14:29:03.301844Z"
    }
   },
   "outputs": [],
   "source": [
    "figsize = 0.6 * get_default_figsize()\n",
    "fig = plt.figure(figsize=figsize)\n",
    "# plt.axhline(0, color=\"grey\")\n",
    "x = np.arange(0, 1000, 1)\n",
    "analytic = x / x[-1]\n",
    "n = np.mean([len(idx) for idx in indices])\n",
    "c = sns.color_palette(\"Blues\", n_colors=3)[1:]\n",
    "for i, idx in enumerate(indices):\n",
    "    _, counts = np.unique(idx, return_counts=True)\n",
    "    estimated = np.cumsum(counts) / len(idx)\n",
    "    plt.plot(analytic - estimated, ls=\"-\", c=c[i])\n",
    "\n",
    "for ci in [0.5, 0.95, 0.997]:\n",
    "    bound = (1 - ci) / 2\n",
    "    bound_values = stats.binom.ppf(1 - bound, n, analytic) / n\n",
    "    lower = bound_values - analytic\n",
    "    upper = analytic - bound_values\n",
    "    upper[0] = 0\n",
    "    upper[-1] = 0\n",
    "    lower[0] = 0\n",
    "    lower[-1] = 0\n",
    "\n",
    "    plt.fill_between(x, lower, upper, color=\"grey\", alpha=0.2)\n",
    "\n",
    "plt.xlim(0, 1000)\n",
    "plt.xlabel(\"Insertion index\")\n",
    "plt.ylabel(r\"Analytic CMF - Empirical CMF\")\n",
    "plt.show()\n",
    "save_figure(fig, \"GW190412_insertion_indices\", \"figures/GW190412/\")\n",
    "fig.savefig(\"figures/GW190412/insertion_indices.png\", dpi=200, bbox_inches=\"tight\")"
   ]
  },
  {
   "cell_type": "code",
   "execution_count": null,
   "metadata": {},
   "outputs": [],
   "source": []
  }
 ],
 "metadata": {
  "kernelspec": {
   "display_name": "nessai-review-gw",
   "language": "python",
   "name": "python3"
  },
  "language_info": {
   "codemirror_mode": {
    "name": "ipython",
    "version": 3
   },
   "file_extension": ".py",
   "mimetype": "text/x-python",
   "name": "python",
   "nbconvert_exporter": "python",
   "pygments_lexer": "ipython3",
   "version": "3.9.16"
  }
 },
 "nbformat": 4,
 "nbformat_minor": 2
}
