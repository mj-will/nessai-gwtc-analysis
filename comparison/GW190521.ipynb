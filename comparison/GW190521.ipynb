{
 "cells": [
  {
   "cell_type": "code",
   "execution_count": null,
   "metadata": {},
   "outputs": [],
   "source": [
    "import glob\n",
    "import os\n",
    "\n",
    "os.environ[\"HDF5_USE_FILE_LOCKING\"] = \"FALSE\"\n",
    "\n",
    "import bilby\n",
    "import corner\n",
    "import h5py\n",
    "import matplotlib.pyplot as plt\n",
    "from matplotlib.lines import Line2D\n",
    "import numpy as np\n",
    "import numpy.lib.recfunctions as rfn\n",
    "from scipy import stats\n",
    "import seaborn as sns\n",
    "from pesummary.core.plots.publication import reverse_triangle_plot\n",
    "\n",
    "\n",
    "from thesis_utils.gw import get_cbc_parameter_labels\n",
    "from thesis_utils.plotting import (\n",
    "    set_plotting,\n",
    "    save_figure,\n",
    "    get_default_corner_kwargs,\n",
    "    get_default_figsize,\n",
    ")\n",
    "\n",
    "set_plotting()"
   ]
  },
  {
   "cell_type": "code",
   "execution_count": null,
   "metadata": {},
   "outputs": [],
   "source": [
    "gwtc2p1_file = \"/home/michael.williams/git_repos/nessai-gwtc-1/gwtc-2.1_sample_release/IGWN-GWTC2p1-v2-GW190521_030229_PEDataRelease_mixed_nocosmo.h5\"\n",
    "with h5py.File(gwtc2p1_file, \"r\") as f:\n",
    "    print(f[\"C01:IMRPhenomXPHM\"].keys())\n",
    "    gwtc2p1_XPHM_posterior = f[\"C01:IMRPhenomXPHM/posterior_samples\"][()]"
   ]
  },
  {
   "cell_type": "code",
   "execution_count": null,
   "metadata": {},
   "outputs": [],
   "source": [
    "with h5py.File(\"GW190521/GW190521_posterior_samples.h5\", \"r\") as f:\n",
    "    print(f.keys())\n",
    "    discovery_samples = f[\"SEOBNRv4PHM/posterior_samples\"][()]"
   ]
  },
  {
   "cell_type": "code",
   "execution_count": null,
   "metadata": {},
   "outputs": [],
   "source": [
    "nessai_result = bilby.core.result.read_in_result(\n",
    "    \"../analysis/O3/outdir_GW190521_IMRPhenomXPHM/final_result/GW190521_IMRPhenomXPHM_data0_1242442967-459473_analysis_H1L1V1_merge_result.hdf5\"\n",
    ")\n",
    "nessai_result_nlive = bilby.core.result.read_in_result(\n",
    "    \"../analysis/O3/outdir_GW190521_IMRPhenomXPHM_v1/final_result/GW190521_IMRPhenomXPHM_data0_1242442967-459473_analysis_H1L1V1_merge_result.hdf5\"\n",
    ")"
   ]
  },
  {
   "cell_type": "code",
   "execution_count": null,
   "metadata": {},
   "outputs": [],
   "source": [
    "nessai_result.posterior.keys()\n",
    "if \"chi_eff\" not in nessai_result.posterior.keys():\n",
    "    nessai_result.posterior = bilby.gw.conversion.generate_all_bbh_parameters(\n",
    "        nessai_result.posterior\n",
    "    )"
   ]
  },
  {
   "cell_type": "code",
   "execution_count": null,
   "metadata": {},
   "outputs": [],
   "source": [
    "nessai_result_nlive.posterior.keys()\n",
    "if \"chi_eff\" not in nessai_result_nlive.posterior.keys():\n",
    "    nessai_result_nlive.posterior = bilby.gw.conversion.generate_all_bbh_parameters(\n",
    "        nessai_result_nlive.posterior\n",
    "    )"
   ]
  },
  {
   "cell_type": "code",
   "execution_count": null,
   "metadata": {},
   "outputs": [],
   "source": [
    "parameters = [\"chirp_mass\", \"mass_ratio\", \"chi_eff\", \"theta_jn\"]\n",
    "\n",
    "corner_kwargs = get_default_corner_kwargs()\n",
    "corner_kwargs[\"plot_density\"] = True\n",
    "corner_kwargs[\"plot_datapoints\"] = False\n",
    "corner_kwargs[\"no_fill_contours\"] = True\n",
    "corner_kwargs[\"show_titles\"] = False\n",
    "corner_kwargs.pop(\"fill_contours\")\n",
    "corner_kwargs[\"levels\"] = (1 - np.exp(-0.5), 1 - np.exp(-2), 1 - np.exp(-9 / 2.0))\n",
    "corner_kwargs[\"quantiles\"] = []\n",
    "corner_kwargs[\"smooth\"] = 0.9\n",
    "corner_kwargs[\"bins\"] = 32\n",
    "fig = None\n",
    "\n",
    "corner_kwargs[\"color\"] = \"k\"\n",
    "corner_kwargs[\"hist_kwargs\"][\"color\"] = \"k\"\n",
    "corner_kwargs[\"hist_kwargs\"][\"ls\"] = \"--\"\n",
    "fig = corner.corner(\n",
    "    np.array([gwtc2p1_XPHM_posterior[p] for p in parameters]).T,\n",
    "    fig=fig,\n",
    "    contour_kwargs=dict(linestyles=[\"--\"]),\n",
    "    **corner_kwargs,\n",
    ")\n",
    "\n",
    "corner_kwargs[\"hist_kwargs\"][\"ls\"] = \"-\"\n",
    "corner_kwargs[\"color\"] = \"C0\"\n",
    "corner_kwargs[\"hist_kwargs\"][\"color\"] = \"C0\"\n",
    "fig = corner.corner(\n",
    "    np.array([nessai_result.posterior[p] for p in parameters]).T,\n",
    "    fig=fig,\n",
    "    labels=get_cbc_parameter_labels(parameters, units=True),\n",
    "    labelpad=-0.1,\n",
    "    **corner_kwargs,\n",
    ")\n",
    "\n",
    "corner_kwargs[\"hist_kwargs\"][\"ls\"] = \"-\"\n",
    "corner_kwargs[\"color\"] = \"C1\"\n",
    "corner_kwargs[\"hist_kwargs\"][\"color\"] = \"C1\"\n",
    "fig = corner.corner(\n",
    "    np.array([nessai_result_nlive.posterior[p] for p in parameters]).T,\n",
    "    fig=fig,\n",
    "    labels=get_cbc_parameter_labels(parameters, units=True),\n",
    "    labelpad=-0.1,\n",
    "    **corner_kwargs,\n",
    ")\n",
    "\n",
    "legend_elements = [\n",
    "    Line2D([0], [0], color=\"k\", ls=\"--\", label=r\"GWTC-2.1\"),\n",
    "    Line2D(\n",
    "        [0], [0], color=\"C0\", ls=\"-\", label=r\"\\texttt{nessai} - $N_\\textrm{live}=1000$\"\n",
    "    ),\n",
    "    Line2D(\n",
    "        [0], [0], color=\"C1\", ls=\"-\", label=r\"\\texttt{nessai} - $N_\\textrm{live}=2000$\"\n",
    "    ),\n",
    "]\n",
    "\n",
    "fig.legend(\n",
    "    handles=legend_elements,\n",
    "    bbox_to_anchor=(1.0, 0.9),\n",
    "    loc=\"upper right\",\n",
    "    fontsize=18,\n",
    ")\n",
    "plt.show()\n",
    "save_figure(fig, \"GW190521_posterior\", \"figures/GW190521/\")"
   ]
  },
  {
   "cell_type": "code",
   "execution_count": null,
   "metadata": {},
   "outputs": [],
   "source": []
  },
  {
   "cell_type": "code",
   "execution_count": null,
   "metadata": {},
   "outputs": [],
   "source": [
    "nessai_result_paths = {\n",
    "    \"default\": \"/home/michael.williams/git_repos/nessai-gwtc-1/analysis/O3/outdir_GW190521_IMRPhenomXPHM/result/GW190521_IMRPhenomXPHM_data0_1242442967-459473_analysis_H1L1V1*_nessai/result.hdf5\",\n",
    "    \"nlive\": \"/home/michael.williams/git_repos/nessai-gwtc-1/analysis/O3/outdir_GW190521_IMRPhenomXPHM_v1/result/GW190521_IMRPhenomXPHM_data0_1242442967-459473_analysis_H1L1V1*_nessai/result.hdf5\",\n",
    "}\n",
    "indices = {}\n",
    "for key, path in nessai_result_paths.items():\n",
    "    indices[key] = []\n",
    "    nessai_result_files = glob.glob(path)\n",
    "    for rf in nessai_result_files:\n",
    "        with h5py.File(rf, \"r\") as f:\n",
    "            indices[key].append(f[\"insertion_indices\"][()])"
   ]
  },
  {
   "cell_type": "code",
   "execution_count": null,
   "metadata": {},
   "outputs": [],
   "source": [
    "indices"
   ]
  },
  {
   "cell_type": "code",
   "execution_count": null,
   "metadata": {},
   "outputs": [],
   "source": [
    "figsize = get_default_figsize()\n",
    "figsize[1] *= 0.7\n",
    "fig, axs = plt.subplots(1, 2, figsize=figsize, sharey=True)\n",
    "\n",
    "colours = {\n",
    "    \"default\": sns.color_palette(\"Blues\", n_colors=3)[1:],\n",
    "    \"nlive\": sns.color_palette(\"Oranges\", n_colors=3)[1:],\n",
    "}\n",
    "\n",
    "for (key, indices_data), (j, nlive) in zip(indices.items(), enumerate([1000, 2000])):\n",
    "    # indices_data = indices[\"nlive\"]\n",
    "\n",
    "    # plt.axhline(0, color=\"grey\")\n",
    "    x = np.arange(0, nlive, 1)\n",
    "    analytic = x / x[-1]\n",
    "    n = np.mean([len(idx) for idx in indices_data])\n",
    "    c = colours.get(key)\n",
    "    for i, idx in enumerate(indices_data):\n",
    "        _, counts = np.unique(idx, return_counts=True)\n",
    "        estimated = np.cumsum(counts) / len(idx)\n",
    "        axs[j].plot(analytic - estimated, ls=\"-\", c=c[i])\n",
    "\n",
    "    for ci in [0.5, 0.95, 0.997]:\n",
    "        bound = (1 - ci) / 2\n",
    "        bound_values = stats.binom.ppf(1 - bound, n, analytic) / n\n",
    "        lower = bound_values - analytic\n",
    "        upper = analytic - bound_values\n",
    "        upper[0] = 0\n",
    "        upper[-1] = 0\n",
    "        lower[0] = 0\n",
    "        lower[-1] = 0\n",
    "\n",
    "        axs[j].fill_between(x, lower, upper, color=\"grey\", alpha=0.2)\n",
    "\n",
    "    axs[j].set_xlim(0, nlive)\n",
    "    axs[j].set_xlabel(\"Insertion index\")\n",
    "    axs[j].set_title(r\"$N_\\textrm{live}=\" + str(nlive) + r\"$\", loc=\"left\")\n",
    "axs[0].set_ylabel(r\"Analytic CMF - Empirical CMF\")\n",
    "plt.tight_layout()\n",
    "plt.show()\n",
    "\n",
    "save_figure(fig, f\"GW190521_insertion_indices\", \"figures/GW190521/\")\n",
    "# fig.savefig(\"figures/GW190521/insertion_indices.png\", dpi=200, bbox_inches=\"tight\")"
   ]
  },
  {
   "cell_type": "code",
   "execution_count": null,
   "metadata": {},
   "outputs": [],
   "source": []
  }
 ],
 "metadata": {
  "kernelspec": {
   "display_name": "Python 3",
   "language": "python",
   "name": "python3"
  },
  "language_info": {
   "codemirror_mode": {
    "name": "ipython",
    "version": 3
   },
   "file_extension": ".py",
   "mimetype": "text/x-python",
   "name": "python",
   "nbconvert_exporter": "python",
   "pygments_lexer": "ipython3",
   "version": "3.9.13"
  }
 },
 "nbformat": 4,
 "nbformat_minor": 4
}
