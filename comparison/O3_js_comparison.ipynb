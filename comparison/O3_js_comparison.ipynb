{
 "cells": [
  {
   "cell_type": "code",
   "execution_count": null,
   "metadata": {},
   "outputs": [],
   "source": [
    "import pandas as pd\n",
    "import csv\n",
    "import itertools\n",
    "import os\n",
    "import matplotlib.pyplot as plt\n",
    "import numpy as np\n",
    "import seaborn as sns\n",
    "from matplotlib.lines import Line2D\n",
    "import importlib\n",
    "import h5py\n",
    "\n",
    "from thesis_utils.plotting import set_plotting, get_default_figsize, save_figure\n",
    "from thesis_utils.gw import get_cbc_parameter_labels\n",
    "\n",
    "import utils\n",
    "\n",
    "importlib.reload(utils)\n",
    "from utils import (\n",
    "    EVENTS,\n",
    "    get_min_n_samples,\n",
    "    load_js_data,\n",
    "    get_js_per_event,\n",
    "    get_js_per_parameter,\n",
    ")\n",
    "from utils import ANALYSIS_LABELS as analysis_labels\n",
    "\n",
    "os.environ[\"HDF5_USE_FILE_LOCKING\"] = \"FALSE\"\n",
    "\n",
    "set_plotting()"
   ]
  },
  {
   "cell_type": "code",
   "execution_count": null,
   "metadata": {},
   "outputs": [],
   "source": [
    "events = [\n",
    "    \"GW190412\",\n",
    "    \"GW190521\",\n",
    "    \"GW191109\",\n",
    "]\n",
    "analyses = [\n",
    "    \"GWTC-2_1\",\n",
    "    \"nessai\",\n",
    "]"
   ]
  },
  {
   "cell_type": "code",
   "execution_count": null,
   "metadata": {},
   "outputs": [],
   "source": [
    "n_samples = get_min_n_samples(\n",
    "    \"/home/michael.williams/public_html/nessai-gwtc/O3/\",\n",
    "    events,\n",
    "    analyses,\n",
    ")"
   ]
  },
  {
   "cell_type": "code",
   "execution_count": null,
   "metadata": {},
   "outputs": [],
   "source": [
    "data = load_js_data(\n",
    "    \"js_data\",\n",
    "    \"JS_test_total.csv\",\n",
    "    events,\n",
    ")"
   ]
  },
  {
   "cell_type": "code",
   "execution_count": null,
   "metadata": {},
   "outputs": [],
   "source": [
    "parameters = [\n",
    "    \"chirp_mass\",\n",
    "    \"mass_ratio\",\n",
    "    \"a_1\",\n",
    "    \"a_2\",\n",
    "    \"tilt_1\",\n",
    "    \"tilt_2\",\n",
    "    \"phi_12\",\n",
    "    \"phi_jl\",\n",
    "    \"ra\",\n",
    "    \"dec\",\n",
    "    \"luminosity_distance\",\n",
    "    \"theta_jn\",\n",
    "    \"psi\",\n",
    "    \"phase\",\n",
    "    \"geocent_time\",\n",
    "]"
   ]
  },
  {
   "cell_type": "code",
   "execution_count": null,
   "metadata": {},
   "outputs": [],
   "source": [
    "np.log2(np.e) * np.log(2)"
   ]
  },
  {
   "cell_type": "code",
   "execution_count": null,
   "metadata": {},
   "outputs": [],
   "source": [
    "table_data = {}\n",
    "factor = 1000 * np.log2(np.e)\n",
    "for event in events:\n",
    "    table_data[event] = {}\n",
    "    table_data[event][r\"$n$\"] = n_samples[event]\n",
    "    for p in parameters:\n",
    "        key = get_cbc_parameter_labels(p, units=False)\n",
    "        value = data[event][p][analyses[0]][analyses[1]]\n",
    "        table_data[event][key] = float(value) * factor"
   ]
  },
  {
   "cell_type": "code",
   "execution_count": null,
   "metadata": {},
   "outputs": [],
   "source": [
    "table_df = pd.DataFrame.from_dict(\n",
    "    table_data,\n",
    "    orient=\"index\",\n",
    ")\n",
    "table_df = table_df.style.format(precision=1)\n",
    "# table_df.index.name = \"Event\""
   ]
  },
  {
   "cell_type": "code",
   "execution_count": null,
   "metadata": {},
   "outputs": [],
   "source": [
    "table_df"
   ]
  },
  {
   "cell_type": "code",
   "execution_count": null,
   "metadata": {},
   "outputs": [],
   "source": [
    "tex = table_df.to_latex(\n",
    "    hrules=True,\n",
    "    column_format=\"|l|r|\" + len(parameters) * \"J|\",\n",
    ")\n",
    "with open(\"results/o3_js_table.tex\", \"w\") as f:\n",
    "    f.write(tex)"
   ]
  },
  {
   "cell_type": "code",
   "execution_count": null,
   "metadata": {},
   "outputs": [],
   "source": []
  }
 ],
 "metadata": {
  "kernelspec": {
   "display_name": "nessai-review-gw",
   "language": "python",
   "name": "python3"
  },
  "language_info": {
   "codemirror_mode": {
    "name": "ipython",
    "version": 3
   },
   "file_extension": ".py",
   "mimetype": "text/x-python",
   "name": "python",
   "nbconvert_exporter": "python",
   "pygments_lexer": "ipython3",
   "version": "3.9.16"
  }
 },
 "nbformat": 4,
 "nbformat_minor": 2
}
