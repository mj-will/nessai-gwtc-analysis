{
 "cells": [
  {
   "cell_type": "code",
   "execution_count": null,
   "metadata": {
    "execution": {
     "iopub.execute_input": "2023-05-25T13:54:47.830055Z",
     "iopub.status.busy": "2023-05-25T13:54:47.829788Z",
     "iopub.status.idle": "2023-05-25T13:54:50.185701Z",
     "shell.execute_reply": "2023-05-25T13:54:50.184837Z"
    }
   },
   "outputs": [],
   "source": [
    "import bilby\n",
    "import corner\n",
    "import matplotlib.pyplot as plt\n",
    "from matplotlib.lines import Line2D\n",
    "import numpy as np\n",
    "from scipy import stats\n",
    "import seaborn as sns\n",
    "\n",
    "from thesis_utils.plotting import (\n",
    "    set_plotting,\n",
    "    get_default_figsize,\n",
    "    save_figure,\n",
    "    get_default_corner_kwargs,\n",
    ")\n",
    "from thesis_utils.gw import get_cbc_parameter_labels\n",
    "from thesis_utils.io import load_pickle\n",
    "\n",
    "set_plotting()"
   ]
  },
  {
   "cell_type": "code",
   "execution_count": null,
   "metadata": {
    "execution": {
     "iopub.execute_input": "2023-05-25T13:54:50.189084Z",
     "iopub.status.busy": "2023-05-25T13:54:50.188500Z",
     "iopub.status.idle": "2023-05-25T13:54:50.192611Z",
     "shell.execute_reply": "2023-05-25T13:54:50.191873Z"
    }
   },
   "outputs": [],
   "source": [
    "no_cal_path = \"/home/michael.williams/git_repos/nessai-gwtc-1/analysis/IMRPhenomPv2/outdir_nessai_gwtc_1_GW150914_no_calibration_Pv2/final_result/nessai_gwtc_1_GW150914_data0_1126259462-391_analysis_H1L1_merge_result.hdf5\"\n",
    "reweight_path = \"/home/michael.williams/git_repos/nessai-gwtc-1/analysis/IMRPhenomPv2/outdir_nessai_gwtc_1_GW150914_cal_reweight_Pv2/final_result/nessai_gwtc_1_GW150914_data0_1126259462-391_analysis_H1L1_merge_result.hdf5\"\n",
    "cal_path = \"/home/michael.williams/git_repos/nessai-gwtc-1/analysis/IMRPhenomPv2/outdir_nessai_gwtc_1_GW150914_cal_sample_Pv2/final_result/nessai_gwtc_1_GW150914_Pv2_data0_1126259462-391_analysis_H1L1_merge_result.hdf5\""
   ]
  },
  {
   "cell_type": "code",
   "execution_count": null,
   "metadata": {
    "execution": {
     "iopub.execute_input": "2023-05-25T13:54:50.194837Z",
     "iopub.status.busy": "2023-05-25T13:54:50.194553Z",
     "iopub.status.idle": "2023-05-25T13:54:51.236421Z",
     "shell.execute_reply": "2023-05-25T13:54:51.235830Z"
    }
   },
   "outputs": [],
   "source": [
    "cal_result = bilby.core.result.read_in_result(cal_path)\n",
    "no_cal_result = bilby.core.result.read_in_result(no_cal_path)\n",
    "reweight_result = bilby.core.result.read_in_result(reweight_path)"
   ]
  },
  {
   "cell_type": "code",
   "execution_count": null,
   "metadata": {
    "execution": {
     "iopub.execute_input": "2023-05-25T13:54:51.239161Z",
     "iopub.status.busy": "2023-05-25T13:54:51.238871Z",
     "iopub.status.idle": "2023-05-25T13:54:51.242068Z",
     "shell.execute_reply": "2023-05-25T13:54:51.241562Z"
    }
   },
   "outputs": [],
   "source": [
    "parameters = [\n",
    "    \"chirp_mass\",\n",
    "    \"mass_ratio\",\n",
    "    \"chi_p\",\n",
    "    \"chi_eff\",\n",
    "    \"theta_jn\",\n",
    "    \"ra\",\n",
    "    \"dec\",\n",
    "    \"luminosity_distance\",\n",
    "]"
   ]
  },
  {
   "cell_type": "code",
   "execution_count": null,
   "metadata": {
    "execution": {
     "iopub.execute_input": "2023-05-25T13:54:51.244270Z",
     "iopub.status.busy": "2023-05-25T13:54:51.243994Z",
     "iopub.status.idle": "2023-05-25T13:54:51.263969Z",
     "shell.execute_reply": "2023-05-25T13:54:51.263481Z"
    }
   },
   "outputs": [],
   "source": [
    "from pesummary.utils.utils import jensen_shannon_divergence"
   ]
  },
  {
   "cell_type": "code",
   "execution_count": null,
   "metadata": {
    "execution": {
     "iopub.execute_input": "2023-05-25T13:54:51.266282Z",
     "iopub.status.busy": "2023-05-25T13:54:51.266013Z",
     "iopub.status.idle": "2023-05-25T13:54:51.966705Z",
     "shell.execute_reply": "2023-05-25T13:54:51.966107Z"
    }
   },
   "outputs": [],
   "source": [
    "for key in parameters:\n",
    "    print(key)\n",
    "    x1 = cal_result.posterior[key]\n",
    "    x2 = reweight_result.posterior[key]\n",
    "    x3 = no_cal_result.posterior[key]\n",
    "    cal_reweight = jensen_shannon_divergence([x1, x2])\n",
    "    cal_none = jensen_shannon_divergence([x1, x3])\n",
    "    reweight_none = jensen_shannon_divergence([x2, x3])\n",
    "    print(cal_reweight, cal_none, reweight_none)"
   ]
  },
  {
   "cell_type": "code",
   "execution_count": null,
   "metadata": {
    "execution": {
     "iopub.execute_input": "2023-05-25T13:54:51.969186Z",
     "iopub.status.busy": "2023-05-25T13:54:51.968889Z",
     "iopub.status.idle": "2023-05-25T13:54:51.972253Z",
     "shell.execute_reply": "2023-05-25T13:54:51.971747Z"
    }
   },
   "outputs": [],
   "source": [
    "for result in [cal_result, reweight_result, no_cal_result]:\n",
    "    print(result.sampling_time)"
   ]
  },
  {
   "cell_type": "code",
   "execution_count": null,
   "metadata": {
    "execution": {
     "iopub.execute_input": "2023-05-25T13:54:51.974467Z",
     "iopub.status.busy": "2023-05-25T13:54:51.974034Z",
     "iopub.status.idle": "2023-05-25T13:54:51.977757Z",
     "shell.execute_reply": "2023-05-25T13:54:51.977264Z"
    }
   },
   "outputs": [],
   "source": [
    "results = {\n",
    "    \"no_cal\": no_cal_result,\n",
    "    \"sample\": cal_result,\n",
    "    \"reweight\": reweight_result,\n",
    "}\n",
    "labels = {\n",
    "    \"sample\": \"Calibration sampling\",\n",
    "    \"reweight\": \"Calibration reweighting\",\n",
    "    \"no_cal\": \"No calibration\",\n",
    "}\n",
    "colours = {\n",
    "    \"sample\": \"C0\",\n",
    "    \"reweight\": \"C1\",\n",
    "    \"no_cal\": \"k\",\n",
    "}\n",
    "linestyles = {\n",
    "    \"sample\": \"-\",\n",
    "    \"reweight\": \"-\",\n",
    "    \"no_cal\": \"--\",\n",
    "}"
   ]
  },
  {
   "cell_type": "code",
   "execution_count": null,
   "metadata": {
    "execution": {
     "iopub.execute_input": "2023-05-25T13:54:51.979907Z",
     "iopub.status.busy": "2023-05-25T13:54:51.979650Z",
     "iopub.status.idle": "2023-05-25T13:55:00.817888Z",
     "shell.execute_reply": "2023-05-25T13:55:00.817208Z"
    }
   },
   "outputs": [],
   "source": [
    "corner_kwargs = get_default_corner_kwargs()\n",
    "corner_kwargs[\"plot_density\"] = False\n",
    "corner_kwargs[\"plot_datapoints\"] = False\n",
    "corner_kwargs[\"no_fill_contours\"] = True\n",
    "corner_kwargs[\"show_titles\"] = False\n",
    "corner_kwargs.pop(\"fill_contours\")\n",
    "corner_kwargs[\"levels\"] = (1 - np.exp(-0.5), 1 - np.exp(-2), 1 - np.exp(-9 / 2.0))\n",
    "corner_kwargs[\"quantiles\"] = []\n",
    "corner_kwargs[\"smooth\"] = 0.9\n",
    "corner_kwargs[\"bins\"] = 32\n",
    "corner_kwargs[\"labelpad\"] = 0.1\n",
    "\n",
    "figsize = 2 * get_default_figsize()\n",
    "figsize[0] = figsize[1]\n",
    "fig = plt.figure(figsize=figsize)\n",
    "\n",
    "corner_labels = get_cbc_parameter_labels(parameters, units=True)\n",
    "legend_elements = []\n",
    "for key, result in results.items():\n",
    "    ls = linestyles.get(key)\n",
    "    c = colours.get(key)\n",
    "    corner_kwargs[\"color\"] = c\n",
    "    corner_kwargs[\"hist_kwargs\"][\"color\"] = c\n",
    "    corner_kwargs[\"hist_kwargs\"][\"ls\"] = ls\n",
    "    corner_kwargs[\"contour_kwargs\"] = dict(linestyles=[ls])\n",
    "    data = result.posterior[parameters].to_numpy()\n",
    "    fig = corner.corner(\n",
    "        data,\n",
    "        fig=fig,\n",
    "        labels=corner_labels,\n",
    "        **corner_kwargs,\n",
    "    )\n",
    "    legend_elements.append(Line2D([0], [0], color=c, ls=ls, label=labels.get(key)))\n",
    "fig.legend(\n",
    "    handles=legend_elements,\n",
    "    bbox_to_anchor=(0.8, 0.8),\n",
    "    loc=\"center\",\n",
    "    fontsize=16,\n",
    ")\n",
    "plt.show()\n",
    "save_figure(fig, \"calibration_posterior\", f\"figures/calibration/\")"
   ]
  },
  {
   "attachments": {},
   "cell_type": "markdown",
   "metadata": {},
   "source": [
    "# Run statistics"
   ]
  },
  {
   "cell_type": "code",
   "execution_count": null,
   "metadata": {
    "execution": {
     "iopub.execute_input": "2023-05-25T13:55:00.821972Z",
     "iopub.status.busy": "2023-05-25T13:55:00.821395Z",
     "iopub.status.idle": "2023-05-25T13:55:00.825783Z",
     "shell.execute_reply": "2023-05-25T13:55:00.825107Z"
    }
   },
   "outputs": [],
   "source": [
    "runs = {\n",
    "    \"sample_cal_0\": \"/home/michael.williams/git_repos/nessai-gwtc-1/analysis/IMRPhenomPv2/outdir_nessai_gwtc_1_GW150914_cal_sample_Pv2/result/nessai_gwtc_1_GW150914_Pv2_data0_1126259462-391_analysis_H1L1_par0_nessai/nested_sampler_resume.pkl\",\n",
    "    \"sample_cal_1\": \"/home/michael.williams/git_repos/nessai-gwtc-1/analysis/IMRPhenomPv2/outdir_nessai_gwtc_1_GW150914_cal_sample_Pv2/result/nessai_gwtc_1_GW150914_Pv2_data0_1126259462-391_analysis_H1L1_par1_nessai/nested_sampler_resume.pkl\",\n",
    "    \"reweight_0\": \"/home/michael.williams/git_repos/nessai-gwtc-1/analysis/IMRPhenomPv2/outdir_nessai_gwtc_1_GW150914_cal_reweight_Pv2/result/nessai_gwtc_1_GW150914_data0_1126259462-391_analysis_H1L1_par0_nessai/nested_sampler_resume.pkl\",\n",
    "    \"reweight_1\": \"/home/michael.williams/git_repos/nessai-gwtc-1/analysis/IMRPhenomPv2/outdir_nessai_gwtc_1_GW150914_cal_reweight_Pv2/result/nessai_gwtc_1_GW150914_data0_1126259462-391_analysis_H1L1_par1_nessai/nested_sampler_resume.pkl\",\n",
    "    # \"none_0\": \"/home/michael.williams/git_repos/nessai-gwtc-1/analysis/IMRPhenomPv2/outdir_nessai_gwtc_1_GW150914_no_calibration_Pv2/result/nessai_gwtc_1_GW150914_data0_1126259462-391_analysis_H1L1_par0_nessai/nested_sampler_resume.pkl\",\n",
    "    # \"none_1\": \"/home/michael.williams/git_repos/nessai-gwtc-1/analysis/IMRPhenomPv2/outdir_nessai_gwtc_1_GW150914_no_calibration_Pv2/result/nessai_gwtc_1_GW150914_data0_1126259462-391_analysis_H1L1_par1_nessai/nested_sampler_resume.pkl\",\n",
    "}"
   ]
  },
  {
   "cell_type": "code",
   "execution_count": null,
   "metadata": {
    "execution": {
     "iopub.execute_input": "2023-05-25T13:55:00.828830Z",
     "iopub.status.busy": "2023-05-25T13:55:00.828550Z",
     "iopub.status.idle": "2023-05-25T13:55:07.796917Z",
     "shell.execute_reply": "2023-05-25T13:55:07.796064Z"
    }
   },
   "outputs": [],
   "source": [
    "samplers = {}\n",
    "for name, path in runs.items():\n",
    "    samplers[name] = load_pickle(path)"
   ]
  },
  {
   "cell_type": "code",
   "execution_count": null,
   "metadata": {
    "execution": {
     "iopub.execute_input": "2023-05-25T13:55:07.800013Z",
     "iopub.status.busy": "2023-05-25T13:55:07.799666Z",
     "iopub.status.idle": "2023-05-25T13:55:07.803824Z",
     "shell.execute_reply": "2023-05-25T13:55:07.803100Z"
    }
   },
   "outputs": [],
   "source": [
    "ls = {\n",
    "    \"sample_cal_0\": \"-\",\n",
    "    \"sample_cal_1\": \"-\",\n",
    "    \"reweight_0\": \"--\",\n",
    "    \"reweight_1\": \"--\",\n",
    "}\n",
    "colours = {\n",
    "    \"sample_cal_0\": \"#2c7bb6\",\n",
    "    \"sample_cal_1\": \"#abd9e9\",\n",
    "    \"reweight_0\": \"#d7191c\",\n",
    "    \"reweight_1\": \"#fdae61\",\n",
    "}"
   ]
  },
  {
   "cell_type": "code",
   "execution_count": null,
   "metadata": {
    "execution": {
     "iopub.execute_input": "2023-05-25T13:55:07.806330Z",
     "iopub.status.busy": "2023-05-25T13:55:07.806033Z",
     "iopub.status.idle": "2023-05-25T13:55:07.809246Z",
     "shell.execute_reply": "2023-05-25T13:55:07.808547Z"
    }
   },
   "outputs": [],
   "source": [
    "labels = {\n",
    "    \"sample_cal_0\": \"Sample\",\n",
    "    \"reweight_0\": \"Reweight\",\n",
    "}"
   ]
  },
  {
   "cell_type": "code",
   "execution_count": null,
   "metadata": {
    "execution": {
     "iopub.execute_input": "2023-05-25T13:55:07.811716Z",
     "iopub.status.busy": "2023-05-25T13:55:07.811393Z",
     "iopub.status.idle": "2023-05-25T13:55:10.574259Z",
     "shell.execute_reply": "2023-05-25T13:55:10.573683Z"
    }
   },
   "outputs": [],
   "source": [
    "figsize = get_default_figsize()\n",
    "figsize[1] *= 1.3\n",
    "fig, axs = plt.subplots(4, 1, sharex=True, figsize=figsize)\n",
    "\n",
    "for i, (name, ns) in enumerate(samplers.items()):\n",
    "    it = (np.arange(len(ns.min_likelihood))) * (ns.nlive // 10)\n",
    "\n",
    "    axs[0].plot(\n",
    "        it,\n",
    "        ns.likelihood_evaluations,\n",
    "        color=colours.get(name),\n",
    "        ls=ls.get(name),\n",
    "    )\n",
    "\n",
    "    dtrain = np.array(ns.training_iterations[1:]) - np.array(\n",
    "        ns.training_iterations[:-1]\n",
    "    )\n",
    "    axs[1].plot(\n",
    "        it,\n",
    "        ns.mean_acceptance_history,\n",
    "        ls=ls.get(name),\n",
    "        color=colours.get(name),\n",
    "    )\n",
    "    # axs[2].plot(\n",
    "    #     ns.training_iterations,\n",
    "    #     np.arange(len(ns.training_iterations)),\n",
    "    #     ls=ls.get(name),\n",
    "    #     color=colours.get(name),\n",
    "    # )\n",
    "    axs[2].plot(\n",
    "        ns.training_iterations[1:],\n",
    "        dtrain,\n",
    "        ls=ls.get(name),\n",
    "        color=colours.get(name),\n",
    "    )\n",
    "\n",
    "    axs[3].plot(\n",
    "        ns.population_iterations,\n",
    "        ns.population_acceptance,\n",
    "        ls=ls.get(name),\n",
    "        label=labels.get(name, None),\n",
    "        color=colours.get(name),\n",
    "    )\n",
    "\n",
    "axs[0].set_ylabel(\"Likelihood\\nevaluations\")\n",
    "\n",
    "# axs[1].set_ylim([1e-3, 1])\n",
    "axs[1].set_yscale(\"log\")\n",
    "axs[1].set_ylabel(\"Acceptance\")\n",
    "\n",
    "# axs[1].set_ylim(0, 2000)\n",
    "\n",
    "# axs[2].set_ylabel(\"Cumulative \\ntraining count\")\n",
    "\n",
    "axs[2].set_ylabel(\"Iterations \\nbetween training\")\n",
    "axs[2].set_yscale(\"log\")\n",
    "# axs[2].set_ylim([0, 1000])\n",
    "\n",
    "axs[3].set_yscale(\"log\")\n",
    "# axs[3].set_ylim([3e-3, 0.10])\n",
    "axs[3].set_ylabel(\"Rejection sampling \\nacceptance\")\n",
    "\n",
    "# for ax in axs:\n",
    "#     ax.fill_betweenx(\n",
    "#         y=ax.get_ylim(),\n",
    "#         x1=0,\n",
    "#         x2=ns.training_iterations[0],\n",
    "#         alpha=0.25,\n",
    "#         zorder=-1,\n",
    "#         color=\"gray\",\n",
    "#         lw=0.0\n",
    "#     )\n",
    "#     ax.set_xlim([0, 75_000])\n",
    "\n",
    "axs[-1].set_xlabel(\"Iteration\")\n",
    "\n",
    "axs[-1].legend(ncol=len(samplers), loc=\"center\", bbox_to_anchor=(0.5, -0.6))\n",
    "axs[-1].set_xlim([0, 27_500])\n",
    "\n",
    "plt.tight_layout()\n",
    "save_figure(fig, \"calibration_comparison_stats\", \"figures/calibration/\")\n",
    "plt.show()"
   ]
  },
  {
   "cell_type": "code",
   "execution_count": null,
   "metadata": {},
   "outputs": [],
   "source": [
    "indices = {\n",
    "    \"sample\": [\n",
    "        samplers[\"sample_cal_0\"].insertion_indices,\n",
    "        samplers[\"sample_cal_1\"].insertion_indices,\n",
    "    ],\n",
    "    \"reweight\": [\n",
    "        samplers[\"reweight_0\"].insertion_indices,\n",
    "        samplers[\"reweight_1\"].insertion_indices,\n",
    "    ],\n",
    "}"
   ]
  },
  {
   "cell_type": "code",
   "execution_count": null,
   "metadata": {},
   "outputs": [],
   "source": [
    "colours = {\n",
    "    \"reweight\": sns.color_palette(\"Oranges\", n_colors=3)[1:],\n",
    "    \"sample\": sns.color_palette(\"Blues\", n_colors=3)[1:],\n",
    "}\n",
    "linestyles = {\n",
    "    \"reweight\": \"--\",\n",
    "    \"sample\": \"-\",\n",
    "}\n",
    "\n",
    "nlive = 1000\n",
    "\n",
    "figsize = 0.8 * get_default_figsize()\n",
    "fig = plt.figure(figsize=figsize)\n",
    "# plt.axhline(0, color=\"grey\")\n",
    "x = np.arange(0, nlive, 1)\n",
    "analytic = x / x[-1]\n",
    "n = np.mean([len(idx) for idx in indices[\"sample\"] + indices[\"reweight\"]])\n",
    "for key, data in indices.items():\n",
    "    if not indices:\n",
    "        continue\n",
    "    c = colours[key]\n",
    "    for i, idx in enumerate(data):\n",
    "        _, counts = np.unique(idx, return_counts=True)\n",
    "        estimated = np.cumsum(counts) / len(idx)\n",
    "        plt.plot(analytic - estimated, ls=linestyles.get(key), c=c[i])\n",
    "\n",
    "for ci in [0.5, 0.95, 0.997]:\n",
    "    bound = (1 - ci) / 2\n",
    "    bound_values = stats.binom.ppf(1 - bound, n, analytic) / n\n",
    "    lower = bound_values - analytic\n",
    "    upper = analytic - bound_values\n",
    "    upper[0] = 0\n",
    "    upper[-1] = 0\n",
    "    lower[0] = 0\n",
    "    lower[-1] = 0\n",
    "\n",
    "    plt.fill_between(x, lower, upper, color=\"grey\", alpha=0.2)\n",
    "\n",
    "legend_elements = [\n",
    "    Line2D([0], [0], ls=linestyles[\"sample\"], c=colours[\"sample\"][-1], label=\"Sample\"),\n",
    "    Line2D(\n",
    "        [0], [0], ls=linestyles[\"reweight\"], c=colours[\"reweight\"][-1], label=\"Reweight\"\n",
    "    ),\n",
    "]\n",
    "plt.legend(handles=legend_elements)\n",
    "\n",
    "plt.xlim(0, 1000)\n",
    "plt.xlabel(\"Insertion index\")\n",
    "plt.ylabel(r\"Analytic CMF - Empirical CMF\")\n",
    "plt.show()\n",
    "save_figure(fig, f\"calibration_indices\", \"figures/calibration/\")"
   ]
  }
 ],
 "metadata": {
  "kernelspec": {
   "display_name": "nessai-review-gw",
   "language": "python",
   "name": "python3"
  },
  "language_info": {
   "codemirror_mode": {
    "name": "ipython",
    "version": 3
   },
   "file_extension": ".py",
   "mimetype": "text/x-python",
   "name": "python",
   "nbconvert_exporter": "python",
   "pygments_lexer": "ipython3",
   "version": "3.9.16"
  }
 },
 "nbformat": 4,
 "nbformat_minor": 2
}
