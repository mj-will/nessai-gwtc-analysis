{
 "cells": [
  {
   "cell_type": "code",
   "execution_count": null,
   "metadata": {},
   "outputs": [],
   "source": [
    "import os\n",
    "\n",
    "os.environ[\"HDF5_USE_FILE_LOCKING\"] = \"FALSE\"\n",
    "\n",
    "import glob\n",
    "\n",
    "import matplotlib.pyplot as plt\n",
    "from matplotlib.lines import Line2D\n",
    "import numpy as np\n",
    "from pesummary.io import read as pe_read\n",
    "import seaborn as sns\n",
    "\n",
    "from thesis_utils.plotting import get_default_corner_kwargs\n",
    "import corner\n",
    "\n",
    "from thesis_utils.gw import get_cbc_parameter_labels\n",
    "from thesis_utils.plotting import set_plotting, save_figure\n",
    "\n",
    "from utils import ANALYSIS_LABELS, load_pe_summary_posterior_samples\n",
    "\n",
    "sns.set_palette(\"colorblind\")\n",
    "set_plotting()\n",
    "\n",
    "plt.rcParams[\"axes.grid\"] = False"
   ]
  },
  {
   "cell_type": "code",
   "execution_count": null,
   "metadata": {},
   "outputs": [],
   "source": [
    "event = \"GW170729\"\n",
    "results_to_plot = [\"GWTC-2\", \"nessai-XPHM\", \"nessai-XP\"]"
   ]
  },
  {
   "cell_type": "code",
   "execution_count": null,
   "metadata": {},
   "outputs": [],
   "source": [
    "parameters_to_plot = [\n",
    "    # \"chirp_mass\",\n",
    "    # \"mass_ratio\",\n",
    "    \"mass_1\",\n",
    "    \"mass_2\",\n",
    "    # \"a_1\",\n",
    "    # \"a_2\",\n",
    "    # \"tilt_1\",\n",
    "    # \"tilt_2\",\n",
    "    \"chi_eff\",\n",
    "    \"chi_p\",\n",
    "    \"ra\",\n",
    "    \"dec\",\n",
    "    \"theta_jn\",\n",
    "    \"luminosity_distance\",\n",
    "]"
   ]
  },
  {
   "cell_type": "code",
   "execution_count": null,
   "metadata": {},
   "outputs": [],
   "source": [
    "posterior_samples = load_pe_summary_posterior_samples(\n",
    "    path=\"gwtc-1/comparison/\",\n",
    "    events=[event],\n",
    ")"
   ]
  },
  {
   "cell_type": "code",
   "execution_count": null,
   "metadata": {},
   "outputs": [],
   "source": [
    "corner_data = {}\n",
    "for rtp in results_to_plot:\n",
    "    res = posterior_samples[event][rtp]\n",
    "    array = np.array([res[p] for p in parameters_to_plot]).T\n",
    "    corner_data[rtp] = array"
   ]
  },
  {
   "cell_type": "code",
   "execution_count": null,
   "metadata": {},
   "outputs": [],
   "source": [
    "# corner_kwargs = get_default_corner_kwargs()\n",
    "# corner_kwargs.pop(\"color\")\n",
    "# corner_kwargs[\"fill_contours\"] = False\n",
    "# corner_kwargs[\"show_titles\"] = False\n",
    "# corner_kwargs[\"quantiles\"] = None\n",
    "# corner_kwargs[\"plot_datapoints\"] = False\n",
    "# corner_kwargs[\"plot_density\"] = False\n",
    "corner_kwargs = get_default_corner_kwargs()\n",
    "corner_kwargs[\"plot_density\"] = True\n",
    "corner_kwargs[\"plot_datapoints\"] = False\n",
    "corner_kwargs[\"no_fill_contours\"] = True\n",
    "corner_kwargs[\"show_titles\"] = False\n",
    "corner_kwargs.pop(\"fill_contours\")\n",
    "corner_kwargs[\"levels\"] = (1 - np.exp(-0.5), 1 - np.exp(-2), 1 - np.exp(-9 / 2.0))\n",
    "corner_kwargs[\"quantiles\"] = []\n",
    "corner_kwargs[\"smooth\"] = 0.9\n",
    "corner_kwargs[\"bins\"] = 32\n",
    "fig = None"
   ]
  },
  {
   "cell_type": "code",
   "execution_count": null,
   "metadata": {},
   "outputs": [],
   "source": [
    "fig = None\n",
    "colours = [\"k\", \"C0\", \"C1\"]\n",
    "linestyles = [\"--\", \"-\", \"-\"]\n",
    "labels = get_cbc_parameter_labels(parameters_to_plot, units=True)\n",
    "legend_elements = []\n",
    "for c, ls, (key, data) in zip(colours, linestyles, corner_data.items()):\n",
    "    corner_kwargs[\"color\"] = c\n",
    "    corner_kwargs[\"hist_kwargs\"][\"color\"] = c\n",
    "    corner_kwargs[\"hist_kwargs\"][\"ls\"] = ls\n",
    "    corner_kwargs[\"contour_kwargs\"] = dict(linestyles=[ls])\n",
    "    fig = corner.corner(\n",
    "        data,\n",
    "        fig=fig,\n",
    "        labels=labels,\n",
    "        **corner_kwargs,\n",
    "    )\n",
    "    legend_elements.append(\n",
    "        Line2D([0], [0], color=c, ls=ls, label=ANALYSIS_LABELS.get(key))\n",
    "    )\n",
    "fig.legend(\n",
    "    handles=legend_elements,\n",
    "    bbox_to_anchor=(1.0, 0.9),\n",
    "    loc=\"upper right\",\n",
    "    fontsize=18,\n",
    ")\n",
    "plt.show()\n",
    "save_figure(fig, f\"{event}_gwtc_2p1_comparison\", f\"figures/{event}\")"
   ]
  },
  {
   "cell_type": "code",
   "execution_count": null,
   "metadata": {},
   "outputs": [],
   "source": [
    "all_keys = set.intersection(\n",
    "    *[set(s.dtype.names) for s in posterior_samples[event].values()]\n",
    ")"
   ]
  },
  {
   "cell_type": "code",
   "execution_count": null,
   "metadata": {},
   "outputs": [],
   "source": [
    "os.makedirs(f\"figures/{event}/\", exist_ok=True)\n",
    "keys = set.intersection(all_keys, set(parameters_to_plot))\n",
    "for key in keys:\n",
    "    xlabel = get_cbc_parameter_labels(key, units=True)\n",
    "    hist_kwargs = dict(\n",
    "        histtype=\"step\",\n",
    "        density=True,\n",
    "        bins=32,\n",
    "    )\n",
    "    fig = plt.figure()\n",
    "    for analysis, samples in posterior_samples[event].items():\n",
    "        plt.hist(\n",
    "            samples[key],\n",
    "            label=ANALYSIS_LABELS.get(analysis),\n",
    "            **hist_kwargs,\n",
    "        )\n",
    "    plt.xlabel(xlabel)\n",
    "    plt.legend(loc=2)\n",
    "    plt.show()\n",
    "    fig.savefig(f\"figures/{event}/{key}.png\")"
   ]
  },
  {
   "cell_type": "code",
   "execution_count": null,
   "metadata": {},
   "outputs": [],
   "source": []
  }
 ],
 "metadata": {
  "kernelspec": {
   "display_name": "nessai-review-gw",
   "language": "python",
   "name": "python3"
  },
  "language_info": {
   "codemirror_mode": {
    "name": "ipython",
    "version": 3
   },
   "file_extension": ".py",
   "mimetype": "text/x-python",
   "name": "python",
   "nbconvert_exporter": "python",
   "pygments_lexer": "ipython3",
   "version": "3.9.16"
  }
 },
 "nbformat": 4,
 "nbformat_minor": 2
}
