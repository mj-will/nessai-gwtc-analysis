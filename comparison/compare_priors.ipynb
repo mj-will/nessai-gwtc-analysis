{
 "cells": [
  {
   "cell_type": "code",
   "execution_count": null,
   "metadata": {},
   "outputs": [],
   "source": [
    "import os\n",
    "\n",
    "os.environ[\"HDF5_USE_FILE_LOCKING\"] = \"FALSE\"\n",
    "\n",
    "import glob\n",
    "\n",
    "import bilby\n",
    "import corner\n",
    "import h5py\n",
    "from matplotlib.lines import Line2D\n",
    "import matplotlib.pyplot as plt\n",
    "import numpy as np\n",
    "from pesummary.io import read as pe_read\n",
    "import seaborn as sns\n",
    "\n",
    "from thesis_utils.gw import get_cbc_parameter_labels\n",
    "from thesis_utils.plotting import set_plotting, save_figure, get_default_figsize\n",
    "\n",
    "from utils import EVENTS\n",
    "\n",
    "sns.set_palette(\"colorblind\")\n",
    "set_plotting()\n",
    "\n",
    "plt.rcParams[\"axes.grid\"] = False"
   ]
  },
  {
   "cell_type": "code",
   "execution_count": null,
   "metadata": {},
   "outputs": [],
   "source": [
    "event = \"GW150914\"\n",
    "label = \"cal_reweight\"\n",
    "plot_samples = False"
   ]
  },
  {
   "cell_type": "code",
   "execution_count": null,
   "metadata": {},
   "outputs": [],
   "source": [
    "gwtc1_prior_samples = {}\n",
    "for event in EVENTS:\n",
    "    gwtc1_file = f\"../gwtc-1_sample_release/{event}_GWTC-1.hdf5\"\n",
    "    with h5py.File(gwtc1_file, \"r\") as f:\n",
    "        gwtc1_prior_samples[event] = f[\"prior\"][()]"
   ]
  },
  {
   "cell_type": "code",
   "execution_count": null,
   "metadata": {},
   "outputs": [],
   "source": [
    "bilby_ln_prior_values = {}\n",
    "li_ln_prior_values = {}\n",
    "\n",
    "bilby_priors = {}\n",
    "li_priors = {}\n",
    "\n",
    "for event in EVENTS:\n",
    "    print(event)\n",
    "    try:\n",
    "        lalinf_prior = bilby.gw.prior.CBCPriorDict(\n",
    "            filename=f\"../analysis/original_priors/prior_files/{event}.prior\"\n",
    "        )\n",
    "    except OSError:\n",
    "        continue\n",
    "    Pv2_file = glob.glob(\n",
    "        f\"../analysis/IMRPhenomXPHM/outdir_nessai_gwtc_1_{event}_{label}_*/final_result/*.hdf5\"\n",
    "    )[0]\n",
    "    Pv2_result = bilby.core.result.read_in_result(Pv2_file)\n",
    "    bilby_prior = Pv2_result.priors.copy()\n",
    "\n",
    "    mass_keys = {\"chirp_mass\", \"mass_ratio\", \"mass_1\", \"mass_2\", \"total_mass\"}\n",
    "    remove_bilby = set(bilby_prior.keys()) - mass_keys\n",
    "    remove_lalinf = set(lalinf_prior.keys()) - mass_keys\n",
    "\n",
    "    for k in remove_bilby:\n",
    "        bilby_prior.pop(k)\n",
    "\n",
    "    for k in remove_lalinf:\n",
    "        lalinf_prior.pop(k)\n",
    "\n",
    "    for prior in [bilby_prior, lalinf_prior]:\n",
    "        if \"total_mass\" not in prior:\n",
    "            prior[\"total_mass\"] = bilby.core.prior.Constraint(\n",
    "                1, 1000, name=\"total_mass\"\n",
    "            )\n",
    "\n",
    "    bilby_priors[event] = bilby_prior\n",
    "    li_priors[event] = lalinf_prior\n",
    "\n",
    "    # bilby_ln_prior_values[event] = bilby_prior.ln_prob(samples, axis=0).reshape(*m1.shape)\n",
    "    # li_ln_prior_values[event] = lalinf_prior.ln_prob(samples, axis=0).reshape(*m1.shape)"
   ]
  },
  {
   "attachments": {},
   "cell_type": "markdown",
   "metadata": {},
   "source": [
    "gwtc1_chirp_mass = bilby.gw.conversion.component_masses_to_chirp_mass(\n",
    "    gwtc1_samples[\"m1_detector_frame_Msun\"],\n",
    "    gwtc1_samples[\"m2_detector_frame_Msun\"]\n",
    ")\n",
    "gwtc1_mass_ratio = bilby.gw.conversion.component_masses_to_mass_ratio(\n",
    "    gwtc1_samples[\"m1_detector_frame_Msun\"],\n",
    "    gwtc1_samples[\"m2_detector_frame_Msun\"]\n",
    ")"
   ]
  },
  {
   "cell_type": "code",
   "execution_count": null,
   "metadata": {},
   "outputs": [],
   "source": [
    "mplot_min = 1\n",
    "mplot_max = 500\n",
    "n = 1000\n",
    "m1_vec = np.linspace(mplot_min, mplot_max, n, endpoint=True)\n",
    "m2_vec = np.linspace(mplot_min, 210, n, endpoint=True)\n",
    "m1, m2 = np.meshgrid(m1_vec, m1_vec)"
   ]
  },
  {
   "cell_type": "code",
   "execution_count": null,
   "metadata": {},
   "outputs": [],
   "source": [
    "samples = dict(mass_1=m1.flatten(), mass_2=m2.flatten())\n",
    "samples[\"mass_ratio\"] = samples[\"mass_2\"] / samples[\"mass_1\"]\n",
    "samples[\"chirp_mass\"] = bilby.gw.conversion.component_masses_to_chirp_mass(\n",
    "    samples[\"mass_1\"], samples[\"mass_2\"]\n",
    ")\n",
    "samples[\"total_mass\"] = bilby.gw.conversion.component_masses_to_total_mass(\n",
    "    samples[\"mass_1\"], samples[\"mass_2\"]\n",
    ")"
   ]
  },
  {
   "cell_type": "code",
   "execution_count": null,
   "metadata": {},
   "outputs": [],
   "source": [
    "events_to_include = {\"GW170729\", \"GW170809\"}\n",
    "events_to_include = EVENTS"
   ]
  },
  {
   "cell_type": "code",
   "execution_count": null,
   "metadata": {},
   "outputs": [],
   "source": [
    "m1_samples = gwtc1_prior_samples[event][\"m1_detector_frame_Msun\"]"
   ]
  },
  {
   "cell_type": "code",
   "execution_count": null,
   "metadata": {},
   "outputs": [],
   "source": [
    "mass_ranges = {\n",
    "    \"GW150914\": {\"mass_1\": [1, 270], \"mass_2\": [1, 85]},\n",
    "    \"GW151012\": {\"mass_1\": [1, 200], \"mass_2\": [1, 45]},\n",
    "    \"GW151226\": {\"mass_1\": [1, 75], \"mass_2\": [1, 15]},\n",
    "    \"GW170104\": {\"mass_1\": [1, 250], \"mass_2\": [1, 65]},\n",
    "    \"GW170608\": {\"mass_1\": [1, 65], \"mass_2\": [1, 15]},\n",
    "    \"GW170729\": {\"mass_1\": [1, 550], \"mass_2\": [1, 220]},\n",
    "    \"GW170809\": {\"mass_1\": [1, 270], \"mass_2\": [1, 55]},\n",
    "    \"GW170814\": {\"mass_1\": [1, 250], \"mass_2\": [1, 65]},\n",
    "    \"GW170818\": {\"mass_1\": [1, 300], \"mass_2\": [1, 65]},\n",
    "    \"GW170823\": {\"mass_1\": [1, 400], \"mass_2\": [1, 75]},\n",
    "}"
   ]
  },
  {
   "cell_type": "code",
   "execution_count": null,
   "metadata": {},
   "outputs": [],
   "source": [
    "legend_elements = [\n",
    "    Line2D([0], [0], color=\"C0\", ls=\"-\", label=\"GWTC-1\"),\n",
    "    Line2D([0], [0], color=\"C1\", ls=\"--\", label=\"GWTC-2.1\"),\n",
    "]"
   ]
  },
  {
   "cell_type": "code",
   "execution_count": null,
   "metadata": {},
   "outputs": [],
   "source": [
    "colours = sns.color_palette(\"colorblind\", n_colors=3)\n",
    "figsize = get_default_figsize()\n",
    "figsize[1] *= 2\n",
    "print(colours)\n",
    "fig, axs = plt.subplots(5, 2, figsize=figsize)\n",
    "axs = axs.ravel()\n",
    "# axs = [axs]\n",
    "n = 200\n",
    "for i, event in enumerate(events_to_include):\n",
    "    m1_vec = np.linspace(*mass_ranges[event][\"mass_1\"], n, endpoint=True)\n",
    "    m2_vec = np.linspace(*mass_ranges[event][\"mass_2\"], n, endpoint=True)\n",
    "    m1, m2 = np.meshgrid(m1_vec, m2_vec)\n",
    "    samples = dict(mass_1=m1.flatten(), mass_2=m2.flatten())\n",
    "    samples[\"mass_ratio\"] = samples[\"mass_2\"] / samples[\"mass_1\"]\n",
    "    samples[\"chirp_mass\"] = bilby.gw.conversion.component_masses_to_chirp_mass(\n",
    "        samples[\"mass_1\"], samples[\"mass_2\"]\n",
    "    )\n",
    "    samples[\"total_mass\"] = bilby.gw.conversion.component_masses_to_total_mass(\n",
    "        samples[\"mass_1\"], samples[\"mass_2\"]\n",
    "    )\n",
    "    li_ln_prior_values = li_priors[event].ln_prob(samples, axis=0).reshape(n, n)\n",
    "    bilby_ln_prior_values = bilby_priors[event].ln_prob(samples, axis=0).reshape(n, n)\n",
    "\n",
    "    axs[i].contour(m1, m2, np.isfinite(li_ln_prior_values), [1.0], colors=[\"C0\"])\n",
    "    axs[i].contour(\n",
    "        m1,\n",
    "        m2,\n",
    "        np.isfinite(bilby_ln_prior_values),\n",
    "        [1.0],\n",
    "        colors=[\"C1\"],\n",
    "        linestyles=\"--\",\n",
    "    )\n",
    "\n",
    "    if plot_samples:\n",
    "        m1_samples = gwtc1_prior_samples[event][\"m1_detector_frame_Msun\"]\n",
    "        m2_samples = gwtc1_prior_samples[event][\"m2_detector_frame_Msun\"]\n",
    "        corner.hist2d(\n",
    "            m1_samples,\n",
    "            m2_samples,\n",
    "            plot_density=False,\n",
    "            plot_datapoints=False,\n",
    "            no_fill_contours=True,\n",
    "            smooth=0.9,\n",
    "            ax=axs[i],\n",
    "            color=\"C2\",\n",
    "            bins=100,\n",
    "            levels=[0.99, 0.5],\n",
    "        )\n",
    "        axs[i].set_xlim(0.9 * m1_samples.min(), 1.1 * m1_samples.max())\n",
    "        axs[i].set_ylim(0.9 * m2_samples.min(), 1.1 * m2_samples.max())\n",
    "\n",
    "    else:\n",
    "        axs[i].set_xlim(*mass_ranges[event][\"mass_1\"])\n",
    "        axs[i].set_ylim(*mass_ranges[event][\"mass_2\"])\n",
    "\n",
    "    if (i % 2) == 0:\n",
    "        axs[i].set_ylabel(get_cbc_parameter_labels(\"mass_2\", units=True))\n",
    "    # axs[0].legend()\n",
    "    axs[i].text(0.9, 0.8, event, transform=axs[i].transAxes, ha=\"right\")\n",
    "\n",
    "axs[-2].set_xlabel(get_cbc_parameter_labels(\"mass_1\", units=True))\n",
    "axs[-1].set_xlabel(get_cbc_parameter_labels(\"mass_1\", units=True))\n",
    "\n",
    "fig.legend(\n",
    "    handles=legend_elements,\n",
    "    handlelength=2.0,\n",
    "    ncol=2,\n",
    "    bbox_transform=fig.transFigure,\n",
    "    bbox_to_anchor=(0.5, -0.02),\n",
    "    loc=\"lower center\",\n",
    "    # ha=\"center\",\n",
    ")\n",
    "\n",
    "plt.tight_layout()\n",
    "plt.show()\n",
    "fig.savefig(f\"figures/prior_comparison/all.png\")\n",
    "save_figure(fig, \"all_priors\", path=\"figures/prior_comparison/\")\n",
    "# plt.show()"
   ]
  },
  {
   "cell_type": "code",
   "execution_count": null,
   "metadata": {},
   "outputs": [],
   "source": [
    "lalinf_prior = bilby.gw.prior.CBCPriorDict(\n",
    "    filename=\"prior_files/mock_lalinference_priors/GW150914.prior\"\n",
    ")\n",
    "bilby_prior = Pv2_result.priors.copy()\n",
    "\n",
    "mass_keys = {\"chirp_mass\", \"mass_ratio\", \"mass_1\", \"mass_2\", \"total_mass\"}\n",
    "remove_bilby = set(bilby_prior.keys()) - mass_keys\n",
    "remove_lalinf = set(lalinf_prior.keys()) - mass_keys\n",
    "\n",
    "for k in remove_bilby:\n",
    "    bilby_prior.pop(k)\n",
    "\n",
    "for k in remove_lalinf:\n",
    "    lalinf_prior.pop(k)\n",
    "# lalinf_prior[\"chirp_mass\"] = bilby.core.prior.Constraint(minimum=0.0, maximum=1000, name=\"chirp_mass\")"
   ]
  },
  {
   "cell_type": "code",
   "execution_count": null,
   "metadata": {},
   "outputs": [],
   "source": [
    "mplot_min = 5\n",
    "mplot_max = 160\n",
    "n = 500\n",
    "m1_vec = np.linspace(mplot_min, mplot_max, n, endpoint=True)\n",
    "m2_vec = np.linspace(5, 81, n, endpoint=True)\n",
    "m1, m2 = np.meshgrid(m1_vec, m2_vec)"
   ]
  },
  {
   "cell_type": "code",
   "execution_count": null,
   "metadata": {},
   "outputs": [],
   "source": [
    "samples = dict(mass_1=m1.flatten(), mass_2=m2.flatten())\n",
    "samples[\"mass_ratio\"] = samples[\"mass_2\"] / samples[\"mass_1\"]\n",
    "samples[\"chirp_mass\"] = bilby.gw.conversion.component_masses_to_chirp_mass(\n",
    "    samples[\"mass_1\"], samples[\"mass_2\"]\n",
    ")"
   ]
  },
  {
   "cell_type": "code",
   "execution_count": null,
   "metadata": {},
   "outputs": [],
   "source": [
    "lalinf_prior"
   ]
  },
  {
   "cell_type": "code",
   "execution_count": null,
   "metadata": {},
   "outputs": [],
   "source": [
    "bilby_log_prior = bilby_prior.ln_prob(samples, axis=0).reshape(*m1.shape)\n",
    "li_log_prior = lalinf_prior.ln_prob(samples, axis=0).reshape(*m1.shape)"
   ]
  },
  {
   "cell_type": "code",
   "execution_count": null,
   "metadata": {},
   "outputs": [],
   "source": [
    "fig, axs = plt.subplots(1, 1)\n",
    "axs = [axs]\n",
    "axs[0].contour(m1, m2, np.isfinite(li_log_prior), [1.0], colors=\"C0\")\n",
    "axs[0].contour(\n",
    "    m1, m2, np.isfinite(bilby_log_prior), [1.0], colors=\"C0\", linestyles=\"--\"\n",
    ")\n",
    "axs[0].set_xlabel(get_cbc_parameter_labels(\"mass_1\", units=True))\n",
    "axs[0].set_ylabel(get_cbc_parameter_labels(\"mass_2\", units=True))\n",
    "plt.show()"
   ]
  },
  {
   "cell_type": "code",
   "execution_count": null,
   "metadata": {},
   "outputs": [],
   "source": [
    "fig = plt.figure()\n",
    "plt.contourf(m1, m2, bilby_log_prior)\n",
    "plt.show()"
   ]
  },
  {
   "cell_type": "code",
   "execution_count": null,
   "metadata": {},
   "outputs": [],
   "source": [
    "fig, axs = plt.subplots(1, 1)\n",
    "corner.hist2d(\n",
    "    gwtc1_samples[\"m1_detector_frame_Msun\"],\n",
    "    gwtc1_samples[\"m2_detector_frame_Msun\"],\n",
    "    ax=axs,\n",
    "    bins=50,\n",
    "    color=\"C0\",\n",
    "    plot_density=False,\n",
    "    label=\"lalinference\",\n",
    "    smooth=0.9,\n",
    "    plot_datapoints=False,\n",
    "    # range=[5, 100],\n",
    ")\n",
    "corner.hist2d(\n",
    "    bilby_samples[\"mass_1\"],\n",
    "    bilby_samples[\"mass_2\"],\n",
    "    color=\"C1\",\n",
    "    bins=50,\n",
    "    ax=axs,\n",
    "    plot_density=False,\n",
    "    plot_datapoints=False,\n",
    "    label=\"bilby\",\n",
    "    smooth=0.9,\n",
    ")\n",
    "# axs.axvline(39.4, color=\"k\", lw=1.5)\n",
    "# axs.axhline(30.9, color=\"k\", lw=1.5)\n",
    "axs.set_xlabel(r\"$m_1$\")\n",
    "axs.set_ylabel(r\"$m_2$\")\n",
    "axs.set_xlim(5, 150)\n",
    "axs.set_ylim(5, 85)\n",
    "plt.show()"
   ]
  },
  {
   "cell_type": "code",
   "execution_count": null,
   "metadata": {},
   "outputs": [],
   "source": [
    "fig, axs = plt.subplots(1, 1)\n",
    "corner.hist2d(\n",
    "    gwtc1_chirp_mass,\n",
    "    gwtc1_mass_ratio,\n",
    "    ax=axs,\n",
    "    bins=50,\n",
    "    # levels=[1.0],\n",
    "    color=\"C0\",\n",
    "    plot_density=False,\n",
    "    label=\"lalinference\",\n",
    "    smooth=0.9,\n",
    "    # range=[5, 100],\n",
    ")\n",
    "corner.hist2d(\n",
    "    bilby_samples[\"chirp_mass\"],\n",
    "    bilby_samples[\"mass_ratio\"],\n",
    "    color=\"C1\",\n",
    "    bins=50,\n",
    "    # levels=[1.0],\n",
    "    ax=axs,\n",
    "    plot_density=False,\n",
    "    label=\"bilby\",\n",
    "    smooth=0.9,\n",
    ")\n",
    "axs.set_xlabel(r\"$\\mathcal{M}$\")\n",
    "axs.set_ylabel(r\"$q$\")\n",
    "axs.set_xlim(10, 50)\n",
    "axs.set_ylim(0.0, 1.0)\n",
    "plt.show()"
   ]
  },
  {
   "cell_type": "code",
   "execution_count": null,
   "metadata": {},
   "outputs": [],
   "source": []
  },
  {
   "cell_type": "code",
   "execution_count": null,
   "metadata": {},
   "outputs": [],
   "source": []
  }
 ],
 "metadata": {
  "kernelspec": {
   "display_name": "nessai-review-gw",
   "language": "python",
   "name": "python3"
  },
  "language_info": {
   "codemirror_mode": {
    "name": "ipython",
    "version": 3
   },
   "file_extension": ".py",
   "mimetype": "text/x-python",
   "name": "python",
   "nbconvert_exporter": "python",
   "pygments_lexer": "ipython3",
   "version": "3.9.16"
  }
 },
 "nbformat": 4,
 "nbformat_minor": 2
}
