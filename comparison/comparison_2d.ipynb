{
 "cells": [
  {
   "cell_type": "code",
   "execution_count": null,
   "metadata": {},
   "outputs": [],
   "source": [
    "import os\n",
    "\n",
    "os.environ[\"HDF5_USE_FILE_LOCKING\"] = \"FALSE\"\n",
    "\n",
    "import glob\n",
    "\n",
    "import matplotlib.pyplot as plt\n",
    "import numpy as np\n",
    "from pesummary.io import read as pe_read\n",
    "import seaborn as sns\n",
    "\n",
    "from thesis_utils.plotting import get_default_corner_kwargs\n",
    "import corner\n",
    "\n",
    "from thesis_utils.gw import get_cbc_parameter_labels\n",
    "from thesis_utils.plotting import set_plotting, save_figure\n",
    "\n",
    "from utils import ANALYSIS_LABELS, EVENTS, load_pe_summary_posterior_samples\n",
    "\n",
    "sns.set_palette(\"colorblind\")\n",
    "set_plotting()\n",
    "\n",
    "plt.rcParams[\"axes.grid\"] = False"
   ]
  },
  {
   "cell_type": "code",
   "execution_count": null,
   "metadata": {},
   "outputs": [],
   "source": [
    "posterior_samples = load_pe_summary_posterior_samples(\n",
    "    path=\"gwtc-1/comparison/\",\n",
    "    events=EVENTS,\n",
    ")"
   ]
  },
  {
   "cell_type": "code",
   "execution_count": null,
   "metadata": {},
   "outputs": [],
   "source": [
    "analyses = [\"GWTC-2\", \"nessai-XPHM\"]\n",
    "p1 = \"dec\"\n",
    "p2 = \"ra\"\n",
    "xlims = np.pi / 2 * np.array([-1, 1])\n",
    "ylims = [0, 2 * np.pi]"
   ]
  },
  {
   "cell_type": "code",
   "execution_count": null,
   "metadata": {},
   "outputs": [],
   "source": [
    "fig, axs = plt.subplots(3, 4, sharex=True, sharey=True)\n",
    "\n",
    "kwargs = {}\n",
    "kwargs[\"plot_datapoints\"] = False\n",
    "kwargs[\"no_fill_contours\"] = True\n",
    "kwargs[\"plot_density\"] = False\n",
    "kwargs[\"smooth\"] = 0.9\n",
    "kwargs[\"bins\"] = 50\n",
    "kwargs[\"levels\"] = (1 - np.exp(-0.5), 1 - np.exp(-2), 1 - np.exp(-9 / 2.0))\n",
    "\n",
    "colours = sns.color_palette(\"colorblind\", n_colors=3)\n",
    "\n",
    "for event, ax in zip(EVENTS, axs.ravel()):\n",
    "    for analysis, c in zip(analyses, colours):\n",
    "        corner.hist2d(\n",
    "            posterior_samples[event][analysis][p1],\n",
    "            posterior_samples[event][analysis][p2],\n",
    "            ax=ax,\n",
    "            color=c,\n",
    "            range=[xlims, ylims],\n",
    "            **kwargs,\n",
    "        )\n",
    "    ax.set_xlim(xlims)\n",
    "    ax.set_ylim(ylims)\n",
    "\n",
    "plt.show()"
   ]
  },
  {
   "cell_type": "code",
   "execution_count": null,
   "metadata": {},
   "outputs": [],
   "source": []
  }
 ],
 "metadata": {
  "kernelspec": {
   "display_name": "nessai-review-gw",
   "language": "python",
   "name": "python3"
  },
  "language_info": {
   "codemirror_mode": {
    "name": "ipython",
    "version": 3
   },
   "file_extension": ".py",
   "mimetype": "text/x-python",
   "name": "python",
   "nbconvert_exporter": "python",
   "pygments_lexer": "ipython3",
   "version": "3.9.16"
  }
 },
 "nbformat": 4,
 "nbformat_minor": 2
}
