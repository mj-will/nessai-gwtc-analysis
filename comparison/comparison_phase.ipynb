{
 "cells": [
  {
   "cell_type": "code",
   "execution_count": null,
   "metadata": {},
   "outputs": [],
   "source": [
    "import os\n",
    "\n",
    "os.environ[\"HDF5_USE_FILE_LOCKING\"] = \"FALSE\"\n",
    "\n",
    "import bilby\n",
    "import corner\n",
    "import h5py\n",
    "import matplotlib.pyplot as plt\n",
    "from matplotlib.lines import Line2D\n",
    "import numpy as np\n",
    "import numpy.lib.recfunctions as rfn\n",
    "from pesummary.core.plots.publication import reverse_triangle_plot\n",
    "\n",
    "from thesis_utils.gw import get_cbc_parameter_labels\n",
    "from thesis_utils.plotting import set_plotting, save_figure, get_default_corner_kwargs\n",
    "\n",
    "set_plotting()"
   ]
  },
  {
   "cell_type": "code",
   "execution_count": null,
   "metadata": {},
   "outputs": [],
   "source": [
    "gwtc1_file = \"../gwtc-1_sample_release/GW150914_GWTC-1.hdf5\"\n",
    "\n",
    "with h5py.File(gwtc1_file, \"r\") as f:\n",
    "    print(f.keys())\n",
    "    gwtc1_Pv2_posterior = f[\"IMRPhenomPv2_posterior\"][()]\n",
    "    gwtc1_overall_posterior = f[\"Overall_posterior\"][()]"
   ]
  },
  {
   "cell_type": "code",
   "execution_count": null,
   "metadata": {},
   "outputs": [],
   "source": [
    "gwtc2p1_file = \"../gwtc-2.1_sample_release/IGWN-GWTC2p1-v2-GW150914_095045_PEDataRelease_mixed_nocosmo.h5\"\n",
    "with h5py.File(gwtc2p1_file, \"r\") as f:\n",
    "    print(f[\"C01:IMRPhenomXPHM\"].keys())\n",
    "    gwtc2p1_XPHM_posterior = f[\"C01:IMRPhenomXPHM/posterior_samples\"][()]"
   ]
  },
  {
   "cell_type": "code",
   "execution_count": null,
   "metadata": {},
   "outputs": [],
   "source": [
    "gwtc1_overall_posterior = rfn.append_fields(\n",
    "    gwtc1_overall_posterior,\n",
    "    [\"chirp_mass\", \"mass_ratio\"],\n",
    "    [\n",
    "        bilby.gw.conversion.component_masses_to_chirp_mass(\n",
    "            gwtc1_overall_posterior[\"m1_detector_frame_Msun\"],\n",
    "            gwtc1_overall_posterior[\"m2_detector_frame_Msun\"],\n",
    "        ),\n",
    "        bilby.gw.conversion.component_masses_to_mass_ratio(\n",
    "            gwtc1_overall_posterior[\"m1_detector_frame_Msun\"],\n",
    "            gwtc1_overall_posterior[\"m2_detector_frame_Msun\"],\n",
    "        ),\n",
    "    ],\n",
    "    dtypes=[\"f8\", \"f8\"],\n",
    ")"
   ]
  },
  {
   "cell_type": "code",
   "execution_count": null,
   "metadata": {},
   "outputs": [],
   "source": [
    "gwtc1_Pv2_posterior = rfn.append_fields(\n",
    "    gwtc1_Pv2_posterior,\n",
    "    [\"chirp_mass\", \"mass_ratio\"],\n",
    "    [\n",
    "        bilby.gw.conversion.component_masses_to_chirp_mass(\n",
    "            gwtc1_Pv2_posterior[\"m1_detector_frame_Msun\"],\n",
    "            gwtc1_Pv2_posterior[\"m2_detector_frame_Msun\"],\n",
    "        ),\n",
    "        bilby.gw.conversion.component_masses_to_mass_ratio(\n",
    "            gwtc1_Pv2_posterior[\"m1_detector_frame_Msun\"],\n",
    "            gwtc1_Pv2_posterior[\"m2_detector_frame_Msun\"],\n",
    "        ),\n",
    "    ],\n",
    "    dtypes=[\"f8\", \"f8\"],\n",
    ")"
   ]
  },
  {
   "cell_type": "code",
   "execution_count": null,
   "metadata": {},
   "outputs": [],
   "source": [
    "result_files = {\n",
    "    \"GWTC-2.1\": \"/home/michael.williams/git_repos/nessai-gwtc-1/analysis/IMRPhenomPv2/outdir_nessai_gwtc_1_GW150914_cal_reweight_Pv2/final_result/nessai_gwtc_1_GW150914_data0_1126259462-391_analysis_H1L1_merge_result.hdf5\",\n",
    "    \"marg\": \"/home/michael.williams/git_repos/nessai-gwtc-1/analysis/original_priors/outdir_nessai_gwtc_1_GW150914_cal_reweight_gw/final_result/nessai_gwtc_1_GW150914_data0_1126259462-391_analysis_H1L1_merge_result.hdf5\",\n",
    "    \"no-marg\": \"/home/michael.williams/git_repos/nessai-gwtc-1/analysis/original_priors/outdir_nessai_gwtc_1_GW150914_no_phase_marg/final_result/nessai_gwtc_1_GW150914_data0_1126259462-391_analysis_H1L1_merge_result.hdf5\",\n",
    "}"
   ]
  },
  {
   "cell_type": "code",
   "execution_count": null,
   "metadata": {},
   "outputs": [],
   "source": [
    "results = {k: bilby.core.result.read_in_result(rf) for k, rf in result_files.items()}"
   ]
  },
  {
   "cell_type": "code",
   "execution_count": null,
   "metadata": {},
   "outputs": [],
   "source": [
    "legend_elements = [\n",
    "    Line2D([0], [0], color=\"k\", ls=\"-\", label=r\"GWTC-1\"),\n",
    "    Line2D([0], [0], color=\"k\", ls=\"--\", label=r\"GWTC-2.1\"),\n",
    "    Line2D([0], [0], color=\"C0\", ls=\"-\", label=r\"\\texttt{nessai} - GWTC-2.1 + Marg.\"),\n",
    "    Line2D([0], [0], color=\"C1\", ls=\"-\", label=r\"\\texttt{nessai} - GWTC-1 + Marg.\"),\n",
    "    Line2D([0], [0], color=\"C2\", ls=\"-\", label=r\"\\texttt{nessai} - GWTC-1 + No marg.\"),\n",
    "]"
   ]
  },
  {
   "cell_type": "code",
   "execution_count": null,
   "metadata": {},
   "outputs": [],
   "source": [
    "corner_kwargs = get_default_corner_kwargs()\n",
    "corner_kwargs[\"plot_density\"] = False\n",
    "corner_kwargs[\"plot_datapoints\"] = False\n",
    "corner_kwargs[\"no_fill_contours\"] = True\n",
    "corner_kwargs[\"show_titles\"] = False\n",
    "corner_kwargs.pop(\"fill_contours\")\n",
    "corner_kwargs[\"levels\"] = (1 - np.exp(-0.5), 1 - np.exp(-2), 1 - np.exp(-9 / 2.0))\n",
    "corner_kwargs[\"quantiles\"] = []\n",
    "corner_kwargs[\"smooth\"] = 0.9\n",
    "corner_kwargs[\"bins\"] = 32\n",
    "fig = None\n",
    "\n",
    "corner_kwargs[\"color\"] = \"k\"\n",
    "corner_kwargs[\"hist_kwargs\"][\"color\"] = \"k\"\n",
    "fig = corner.corner(\n",
    "    np.array([gwtc1_Pv2_posterior[\"chirp_mass\"], gwtc1_Pv2_posterior[\"mass_ratio\"]]).T,\n",
    "    fig=fig,\n",
    "    labels=get_cbc_parameter_labels([\"chirp_mass\", \"mass_ratio\"], units=True),\n",
    "    labelpad=-0.1,\n",
    "    **corner_kwargs,\n",
    ")\n",
    "\n",
    "corner_kwargs[\"hist_kwargs\"][\"ls\"] = \"--\"\n",
    "fig = corner.corner(\n",
    "    np.array(\n",
    "        [gwtc2p1_XPHM_posterior[\"chirp_mass\"], gwtc2p1_XPHM_posterior[\"mass_ratio\"]]\n",
    "    ).T,\n",
    "    fig=fig,\n",
    "    contour_kwargs=dict(linestyles=[\"--\"]),\n",
    "    **corner_kwargs,\n",
    ")\n",
    "corner_kwargs[\"hist_kwargs\"][\"ls\"] = \"-\"\n",
    "\n",
    "for i, (key, result) in enumerate(results.items()):\n",
    "    colour = f\"C{i}\"\n",
    "    corner_kwargs[\"color\"] = colour\n",
    "    corner_kwargs[\"hist_kwargs\"][\"color\"] = colour\n",
    "    fig = corner.corner(\n",
    "        np.array(\n",
    "            [\n",
    "                result.posterior[\"chirp_mass\"].to_numpy(),\n",
    "                result.posterior[\"mass_ratio\"].to_numpy(),\n",
    "            ]\n",
    "        ).T,\n",
    "        fig=fig,\n",
    "        **corner_kwargs,\n",
    "    )\n",
    "\n",
    "# axs = plt.gca()\n",
    "fig.legend(\n",
    "    handles=legend_elements,\n",
    "    bbox_to_anchor=(1.0, 0.9),\n",
    "    loc=\"upper right\",\n",
    ")\n",
    "plt.show()\n",
    "save_figure(fig, \"GW150914_mass_comparison\")"
   ]
  },
  {
   "cell_type": "code",
   "execution_count": null,
   "metadata": {},
   "outputs": [],
   "source": [
    "corner.hist2d(\n",
    "    np.random.randn(1000),\n",
    "    np.random.randn(1000),\n",
    "    no_fill_contours=True,\n",
    "    contourf_kwargs=dict(linestyles=[\"--\"]),\n",
    "    # contour_kwargs=dict(linestyles=[\"--\"]),\n",
    ")"
   ]
  },
  {
   "cell_type": "code",
   "execution_count": null,
   "metadata": {},
   "outputs": [],
   "source": [
    "reverse_triangle_plot(\n",
    "    gwtc1_Pv2_posterior[\"chirp_mass\"],\n",
    "    gwtc1_Pv2_posterior[\"mass_ratio\"],\n",
    ")"
   ]
  },
  {
   "cell_type": "code",
   "execution_count": null,
   "metadata": {},
   "outputs": [],
   "source": [
    "bilby.core.result.plot_multiple(\n",
    "    results,\n",
    "    save=False,\n",
    "    parameters=[\"chirp_mass\", \"mass_ratio\", \"a_1\", \"a_2\", \"tilt_1\", \"tilt_2\"],\n",
    ")"
   ]
  },
  {
   "cell_type": "code",
   "execution_count": null,
   "metadata": {},
   "outputs": [],
   "source": []
  }
 ],
 "metadata": {
  "kernelspec": {
   "display_name": "nessai-review-gw",
   "language": "python",
   "name": "python3"
  },
  "language_info": {
   "codemirror_mode": {
    "name": "ipython",
    "version": 3
   },
   "file_extension": ".py",
   "mimetype": "text/x-python",
   "name": "python",
   "nbconvert_exporter": "python",
   "pygments_lexer": "ipython3",
   "version": "3.9.16"
  }
 },
 "nbformat": 4,
 "nbformat_minor": 2
}
