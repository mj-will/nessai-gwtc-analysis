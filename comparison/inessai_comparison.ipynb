{
 "cells": [
  {
   "cell_type": "code",
   "execution_count": null,
   "metadata": {
    "execution": {
     "iopub.execute_input": "2023-05-25T14:45:23.166442Z",
     "iopub.status.busy": "2023-05-25T14:45:23.166160Z",
     "iopub.status.idle": "2023-05-25T14:45:25.333400Z",
     "shell.execute_reply": "2023-05-25T14:45:25.332749Z"
    }
   },
   "outputs": [],
   "source": [
    "import os\n",
    "\n",
    "os.environ[\"HDF5_USE_FILE_LOCKING\"] = \"FALSE\"\n",
    "\n",
    "import bilby\n",
    "import corner\n",
    "import h5py\n",
    "import matplotlib.pyplot as plt\n",
    "from matplotlib.lines import Line2D\n",
    "import glob\n",
    "import numpy as np\n",
    "import pandas as pd\n",
    "\n",
    "from importlib import reload\n",
    "import thesis_utils\n",
    "from thesis_utils.gw import get_cbc_parameter_labels\n",
    "\n",
    "reload(thesis_utils.gw.utils)\n",
    "\n",
    "from thesis_utils.plotting import (\n",
    "    get_default_corner_kwargs,\n",
    "    set_plotting,\n",
    "    get_default_figsize,\n",
    "    save_figure,\n",
    ")\n",
    "\n",
    "\n",
    "set_plotting()"
   ]
  },
  {
   "cell_type": "code",
   "execution_count": null,
   "metadata": {
    "execution": {
     "iopub.execute_input": "2023-05-25T14:45:25.336420Z",
     "iopub.status.busy": "2023-05-25T14:45:25.335959Z",
     "iopub.status.idle": "2023-05-25T14:45:25.875739Z",
     "shell.execute_reply": "2023-05-25T14:45:25.875131Z"
    }
   },
   "outputs": [],
   "source": [
    "results = dict(\n",
    "    nessai=bilby.core.result.read_in_result(\n",
    "        \"/home/michael.williams/git_repos/nessai-gwtc-1/analysis/IMRPhenomPv2/outdir_nessai_gwtc_1_GW170823_cal_reweight_Pv2/final_result/nessai_gwtc_1_GW170823_Pv2_data0_1187529256-517903_analysis_H1L1_merge_result.hdf5\"\n",
    "    ),\n",
    "    inessai_cal=bilby.core.result.read_in_result(\n",
    "        \"/home/michael.williams/git_repos/nessai-gwtc-1/analysis/inessai/outdir_inessai_gwtc_1_GW170823_cal_sample_Pv2_v2/final_result/inessai_gwtc_1_GW170823_Pv2_data0_1187529256-517903_analysis_H1L1_merge_result.hdf5\"\n",
    "    ),\n",
    "    inessai=bilby.core.result.read_in_result(\n",
    "        \"/home/michael.williams/git_repos/nessai-gwtc-1/analysis/inessai/outdir_inessai_gwtc_1_GW170823_cal_reweight_Pv2_v3/final_result/inessai_gwtc_1_GW170823_Pv2_data0_1187529256-517903_analysis_H1L1_merge_result.hdf5\"\n",
    "    ),\n",
    ")"
   ]
  },
  {
   "cell_type": "code",
   "execution_count": null,
   "metadata": {
    "execution": {
     "iopub.execute_input": "2023-05-25T14:45:25.878695Z",
     "iopub.status.busy": "2023-05-25T14:45:25.878201Z",
     "iopub.status.idle": "2023-05-25T14:45:25.884713Z",
     "shell.execute_reply": "2023-05-25T14:45:25.884219Z"
    }
   },
   "outputs": [],
   "source": [
    "results[\"inessai\"].posterior.keys()"
   ]
  },
  {
   "cell_type": "code",
   "execution_count": null,
   "metadata": {
    "execution": {
     "iopub.execute_input": "2023-05-25T14:45:25.922683Z",
     "iopub.status.busy": "2023-05-25T14:45:25.922172Z",
     "iopub.status.idle": "2023-05-25T14:45:25.926576Z",
     "shell.execute_reply": "2023-05-25T14:45:25.926035Z"
    }
   },
   "outputs": [],
   "source": [
    "for key, result in results.items():\n",
    "    print(key)\n",
    "    print(f\"N post: {len(result.posterior)}\")\n",
    "    print(f\"ln-evidence: {result.log_evidence} +/- {result.log_evidence_err}\")\n",
    "    print(f\"N like: {result.num_likelihood_evaluations}\")\n",
    "    print(f\"Sampling time: {result.sampling_time}\")\n",
    "    print(\"\\n\")"
   ]
  },
  {
   "cell_type": "code",
   "execution_count": null,
   "metadata": {
    "execution": {
     "iopub.execute_input": "2023-05-25T14:45:25.928652Z",
     "iopub.status.busy": "2023-05-25T14:45:25.928392Z",
     "iopub.status.idle": "2023-05-25T14:45:25.932085Z",
     "shell.execute_reply": "2023-05-25T14:45:25.931617Z"
    }
   },
   "outputs": [],
   "source": [
    "result.outdir"
   ]
  },
  {
   "cell_type": "code",
   "execution_count": null,
   "metadata": {
    "execution": {
     "iopub.execute_input": "2023-05-25T14:45:25.934144Z",
     "iopub.status.busy": "2023-05-25T14:45:25.933889Z",
     "iopub.status.idle": "2023-05-25T14:45:25.944914Z",
     "shell.execute_reply": "2023-05-25T14:45:25.944425Z"
    }
   },
   "outputs": [],
   "source": [
    "nessai_results = {}\n",
    "for key, result in results.items():\n",
    "    nessai_results[key] = {\n",
    "        \"sampling_time\": [],\n",
    "        \"likelihood_evaluations\": [],\n",
    "        \"likelihood_time\": [],\n",
    "    }\n",
    "    rfs = glob.glob(result.outdir + \"/*_nessai/result.hdf5\")\n",
    "    for rf in rfs:\n",
    "        with h5py.File(rf, \"r\") as f:\n",
    "            nessai_results[key][\"sampling_time\"].append(f[\"sampling_time\"][()] / 60)\n",
    "            nessai_results[key][\"likelihood_evaluations\"].append(\n",
    "                f[\"total_likelihood_evaluations\"][()]\n",
    "            )"
   ]
  },
  {
   "cell_type": "code",
   "execution_count": null,
   "metadata": {
    "execution": {
     "iopub.execute_input": "2023-05-25T14:45:25.947036Z",
     "iopub.status.busy": "2023-05-25T14:45:25.946781Z",
     "iopub.status.idle": "2023-05-25T14:45:25.951401Z",
     "shell.execute_reply": "2023-05-25T14:45:25.950897Z"
    }
   },
   "outputs": [],
   "source": [
    "for key, res in nessai_results.items():\n",
    "    print(key)\n",
    "    for stat, val in res.items():\n",
    "        print(stat, np.mean(val))"
   ]
  },
  {
   "cell_type": "code",
   "execution_count": null,
   "metadata": {
    "execution": {
     "iopub.execute_input": "2023-05-25T14:45:25.953352Z",
     "iopub.status.busy": "2023-05-25T14:45:25.953088Z",
     "iopub.status.idle": "2023-05-25T14:45:25.956829Z",
     "shell.execute_reply": "2023-05-25T14:45:25.956345Z"
    }
   },
   "outputs": [],
   "source": [
    "ess = {\n",
    "    \"nessai\": [6770.5, 6748.2],\n",
    "    \"inessai\": [23043.7, 7566.6],\n",
    "    \"inessai_cal\": [7290.6, 3347.3],\n",
    "}\n",
    "for key, vals in ess.items():\n",
    "    print(key, np.mean(vals))"
   ]
  },
  {
   "cell_type": "code",
   "execution_count": null,
   "metadata": {
    "execution": {
     "iopub.execute_input": "2023-05-25T14:45:25.958787Z",
     "iopub.status.busy": "2023-05-25T14:45:25.958532Z",
     "iopub.status.idle": "2023-05-25T14:45:25.961911Z",
     "shell.execute_reply": "2023-05-25T14:45:25.961398Z"
    }
   },
   "outputs": [],
   "source": [
    "keys = [\"num_likelihood_evaluations\", \"sampling_time\"]\n",
    "table_data = {}\n",
    "for name, result in results.items():\n",
    "    table_data[name] = {}\n",
    "    for key in keys:\n",
    "        table_data[name][key] = getattr(result, key)"
   ]
  },
  {
   "cell_type": "code",
   "execution_count": null,
   "metadata": {
    "execution": {
     "iopub.execute_input": "2023-05-25T14:45:25.963844Z",
     "iopub.status.busy": "2023-05-25T14:45:25.963606Z",
     "iopub.status.idle": "2023-05-25T14:45:25.967311Z",
     "shell.execute_reply": "2023-05-25T14:45:25.966814Z"
    }
   },
   "outputs": [],
   "source": [
    "table_df = pd.DataFrame.from_dict(table_data, orient=\"index\")"
   ]
  },
  {
   "cell_type": "code",
   "execution_count": null,
   "metadata": {
    "execution": {
     "iopub.execute_input": "2023-05-25T14:45:25.969254Z",
     "iopub.status.busy": "2023-05-25T14:45:25.968995Z",
     "iopub.status.idle": "2023-05-25T14:45:25.976230Z",
     "shell.execute_reply": "2023-05-25T14:45:25.975731Z"
    }
   },
   "outputs": [],
   "source": [
    "table_df"
   ]
  },
  {
   "cell_type": "code",
   "execution_count": null,
   "metadata": {
    "execution": {
     "iopub.execute_input": "2023-05-25T14:45:25.978308Z",
     "iopub.status.busy": "2023-05-25T14:45:25.978013Z",
     "iopub.status.idle": "2023-05-25T14:45:25.981122Z",
     "shell.execute_reply": "2023-05-25T14:45:25.980595Z"
    }
   },
   "outputs": [],
   "source": [
    "parameters = [\"mass_1\", \"mass_2\", \"chi_eff\", \"chi_p\", \"theta_jn\", \"ra\", \"dec\"]"
   ]
  },
  {
   "cell_type": "code",
   "execution_count": null,
   "metadata": {
    "execution": {
     "iopub.execute_input": "2023-05-25T14:45:25.983208Z",
     "iopub.status.busy": "2023-05-25T14:45:25.982919Z",
     "iopub.status.idle": "2023-05-25T14:45:33.844507Z",
     "shell.execute_reply": "2023-05-25T14:45:33.843762Z"
    }
   },
   "outputs": [],
   "source": [
    "figsize = 1.6 * get_default_figsize()\n",
    "figsize[0] = figsize[1]\n",
    "fig = plt.figure(figsize=figsize)\n",
    "colours = {\n",
    "    \"nessai\": \"k\",\n",
    "    \"inessai\": \"C1\",\n",
    "    \"inessai_cal\": \"C0\",\n",
    "}\n",
    "labels = get_cbc_parameter_labels(parameters, units=True)\n",
    "\n",
    "corner_kwargs = get_default_corner_kwargs()\n",
    "corner_kwargs.pop(\"color\")\n",
    "corner_kwargs[\"fill_contours\"] = False\n",
    "corner_kwargs[\"show_titles\"] = False\n",
    "corner_kwargs[\"quantiles\"] = None\n",
    "corner_kwargs[\"plot_datapoints\"] = False\n",
    "corner_kwargs[\"plot_density\"] = False\n",
    "\n",
    "for key, result in results.items():\n",
    "    corner_kwargs[\"hist_kwargs\"][\"color\"] = colours.get(key)\n",
    "    fig = corner.corner(\n",
    "        result.posterior[parameters].to_numpy(),\n",
    "        fig=fig,\n",
    "        color=colours.get(key),\n",
    "        labels=labels,\n",
    "        labelpad=0.1,\n",
    "        **corner_kwargs,\n",
    "    )\n",
    "\n",
    "legend_handles = [\n",
    "    Line2D([0], [0], label=r\"\\texttt{nessai}\", color=\"k\"),\n",
    "    Line2D([0], [0], label=r\"\\texttt{i-nessai} - Calibration sampling\", color=\"C0\"),\n",
    "    Line2D([0], [0], label=r\"\\texttt{i-nessai} - Calibration reweighting\", color=\"C1\"),\n",
    "]\n",
    "fig.legend(handles=legend_handles, loc=\"upper right\", fontsize=12)\n",
    "\n",
    "plt.show()\n",
    "save_figure(fig, \"GW170823_posterior\", \"figures/inessai/\")"
   ]
  },
  {
   "cell_type": "code",
   "execution_count": null,
   "metadata": {
    "execution": {
     "iopub.execute_input": "2023-05-25T14:45:33.848442Z",
     "iopub.status.busy": "2023-05-25T14:45:33.847854Z",
     "iopub.status.idle": "2023-05-25T14:45:33.866046Z",
     "shell.execute_reply": "2023-05-25T14:45:33.865526Z"
    }
   },
   "outputs": [],
   "source": [
    "from pesummary.utils.utils import jensen_shannon_divergence\n",
    "import itertools"
   ]
  },
  {
   "cell_type": "code",
   "execution_count": null,
   "metadata": {
    "execution": {
     "iopub.execute_input": "2023-05-25T14:45:33.868830Z",
     "iopub.status.busy": "2023-05-25T14:45:33.868542Z",
     "iopub.status.idle": "2023-05-25T14:45:33.871828Z",
     "shell.execute_reply": "2023-05-25T14:45:33.871235Z"
    }
   },
   "outputs": [],
   "source": [
    "js_parameters = results[\"inessai\"].search_parameter_keys"
   ]
  },
  {
   "cell_type": "code",
   "execution_count": null,
   "metadata": {
    "execution": {
     "iopub.execute_input": "2023-05-25T14:45:33.874492Z",
     "iopub.status.busy": "2023-05-25T14:45:33.874235Z",
     "iopub.status.idle": "2023-05-25T14:45:39.305736Z",
     "shell.execute_reply": "2023-05-25T14:45:39.304339Z"
    }
   },
   "outputs": [],
   "source": [
    "js = {}\n",
    "pairs = [\n",
    "    (\"nessai\", \"inessai\"),\n",
    "    (\"nessai\", \"inessai_cal\"),\n",
    "    (\"inessai\", \"inessai_cal\"),\n",
    "]\n",
    "for s1, s2 in pairs:\n",
    "    label = f\"{s1}-{s2}\"\n",
    "    js[label] = {}\n",
    "    for key in js_parameters:\n",
    "        js[label][key] = 1000 * jensen_shannon_divergence(\n",
    "            [results[s1].posterior[key], results[s2].posterior[key]],\n",
    "            base=2,\n",
    "        )"
   ]
  },
  {
   "cell_type": "code",
   "execution_count": null,
   "metadata": {
    "execution": {
     "iopub.execute_input": "2023-05-25T14:45:39.311054Z",
     "iopub.status.busy": "2023-05-25T14:45:39.310348Z",
     "iopub.status.idle": "2023-05-25T14:45:39.317611Z",
     "shell.execute_reply": "2023-05-25T14:45:39.316357Z"
    }
   },
   "outputs": [],
   "source": [
    "labels = {\n",
    "    \"nessai-inessai\": r\"\\texttt{nessai}-\\texttt{i-nessai}\",\n",
    "    \"nessai-inessai_cal\": r\"\\texttt{nessai}-\\texttt{i-nessai} w. cal\",\n",
    "    \"inessai-inessai_cal\": r\"\\texttt{i-nessai}-\\texttt{i-nessai} w. cal\",\n",
    "}"
   ]
  },
  {
   "cell_type": "code",
   "execution_count": null,
   "metadata": {
    "execution": {
     "iopub.execute_input": "2023-05-25T14:45:39.323902Z",
     "iopub.status.busy": "2023-05-25T14:45:39.323394Z",
     "iopub.status.idle": "2023-05-25T14:45:39.338138Z",
     "shell.execute_reply": "2023-05-25T14:45:39.336915Z"
    }
   },
   "outputs": [],
   "source": [
    "js_df = pd.DataFrame.from_dict(js, orient=\"index\")\n",
    "js_df = js_df.rename(labels)\n",
    "js_df = js_df.rename({p: get_cbc_parameter_labels(p) for p in js_parameters}, axis=1)"
   ]
  },
  {
   "cell_type": "code",
   "execution_count": null,
   "metadata": {
    "execution": {
     "iopub.execute_input": "2023-05-25T14:45:39.343940Z",
     "iopub.status.busy": "2023-05-25T14:45:39.343437Z",
     "iopub.status.idle": "2023-05-25T14:45:39.356249Z",
     "shell.execute_reply": "2023-05-25T14:45:39.355329Z"
    }
   },
   "outputs": [],
   "source": [
    "get_cbc_parameter_labels(\"zenith\")"
   ]
  },
  {
   "cell_type": "code",
   "execution_count": null,
   "metadata": {
    "execution": {
     "iopub.execute_input": "2023-05-25T14:45:39.358642Z",
     "iopub.status.busy": "2023-05-25T14:45:39.358391Z",
     "iopub.status.idle": "2023-05-25T14:45:39.372263Z",
     "shell.execute_reply": "2023-05-25T14:45:39.371679Z"
    }
   },
   "outputs": [],
   "source": [
    "js_df"
   ]
  },
  {
   "cell_type": "code",
   "execution_count": null,
   "metadata": {
    "execution": {
     "iopub.execute_input": "2023-05-25T14:45:39.374590Z",
     "iopub.status.busy": "2023-05-25T14:45:39.374307Z",
     "iopub.status.idle": "2023-05-25T14:45:39.426387Z",
     "shell.execute_reply": "2023-05-25T14:45:39.425843Z"
    }
   },
   "outputs": [],
   "source": [
    "tex_table = js_df.style.format(precision=2).to_latex()\n",
    "with open(\"results/GW170823_inessai_table.tex\", \"w\") as f:\n",
    "    f.write(tex_table)"
   ]
  },
  {
   "cell_type": "code",
   "execution_count": null,
   "metadata": {
    "execution": {
     "iopub.execute_input": "2023-05-25T14:45:39.428966Z",
     "iopub.status.busy": "2023-05-25T14:45:39.428699Z",
     "iopub.status.idle": "2023-05-25T14:45:39.432346Z",
     "shell.execute_reply": "2023-05-25T14:45:39.431844Z"
    }
   },
   "outputs": [],
   "source": [
    "tex_table"
   ]
  },
  {
   "cell_type": "code",
   "execution_count": null,
   "metadata": {
    "execution": {
     "iopub.execute_input": "2023-05-25T14:45:39.434501Z",
     "iopub.status.busy": "2023-05-25T14:45:39.434251Z",
     "iopub.status.idle": "2023-05-25T14:45:39.438055Z",
     "shell.execute_reply": "2023-05-25T14:45:39.437585Z"
    }
   },
   "outputs": [],
   "source": [
    "len(results[\"inessai_cal\"].posterior)"
   ]
  }
 ],
 "metadata": {
  "kernelspec": {
   "display_name": "nessai-review-gw",
   "language": "python",
   "name": "python3"
  },
  "language_info": {
   "codemirror_mode": {
    "name": "ipython",
    "version": 3
   },
   "file_extension": ".py",
   "mimetype": "text/x-python",
   "name": "python",
   "nbconvert_exporter": "python",
   "pygments_lexer": "ipython3",
   "version": "3.9.16"
  }
 },
 "nbformat": 4,
 "nbformat_minor": 2
}
