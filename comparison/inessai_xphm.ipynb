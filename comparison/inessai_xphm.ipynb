{
 "cells": [
  {
   "cell_type": "code",
   "execution_count": null,
   "metadata": {},
   "outputs": [],
   "source": [
    "import os\n",
    "\n",
    "os.environ[\"HDF5_USE_FILE_LOCKING\"] = \"FALSE\"\n",
    "\n",
    "import bilby\n",
    "import corner\n",
    "import h5py\n",
    "import matplotlib.pyplot as plt\n",
    "from matplotlib.lines import Line2D\n",
    "import glob\n",
    "import numpy as np\n",
    "import pandas as pd\n",
    "\n",
    "from importlib import reload\n",
    "import thesis_utils\n",
    "from thesis_utils.gw import get_cbc_parameter_labels\n",
    "\n",
    "reload(thesis_utils.gw.utils)\n",
    "\n",
    "from thesis_utils.plotting import (\n",
    "    get_default_corner_kwargs,\n",
    "    set_plotting,\n",
    "    get_default_figsize,\n",
    "    save_figure,\n",
    ")\n",
    "\n",
    "\n",
    "set_plotting()"
   ]
  },
  {
   "cell_type": "code",
   "execution_count": null,
   "metadata": {},
   "outputs": [],
   "source": [
    "gwtc2p1_file = \"/home/michael.williams/git_repos/nessai-gwtc-1/gwtc-2.1_sample_release/IGWN-GWTC2p1-v2-GW170823_131358_PEDataRelease_mixed_nocosmo.h5\"\n",
    "with h5py.File(gwtc2p1_file, \"r\") as f:\n",
    "    print(f.keys())\n",
    "    gwtc2p1_result = f[\"C01:IMRPhenomXPHM/posterior_samples\"][()]"
   ]
  },
  {
   "cell_type": "code",
   "execution_count": null,
   "metadata": {},
   "outputs": [],
   "source": [
    "inessai_xphm = bilby.core.result.read_in_result(\n",
    "    \"/home/michael.williams/git_repos/nessai-gwtc-1/analysis/inessai/outdir_inessai_gwtc_1_GW170823_cal_reweight_XPHM_v7/final_result/inessai_gwtc_1_GW170823_XPHM_data0_1187529256-517903_analysis_H1L1_merge_result.hdf5\"\n",
    ")"
   ]
  },
  {
   "cell_type": "code",
   "execution_count": null,
   "metadata": {},
   "outputs": [],
   "source": [
    "nessai_xphm = bilby.core.result.read_in_result(\n",
    "    \"/home/michael.williams/git_repos/nessai-gwtc-1/analysis/IMRPhenomXPHM/outdir_nessai_gwtc_1_GW170823_cal_reweight_XPHM/final_result/nessai_gwtc_1_GW170823_XPHM_data0_1187529256-517903_analysis_H1L1_merge_result.hdf5\"\n",
    ")"
   ]
  },
  {
   "cell_type": "code",
   "execution_count": null,
   "metadata": {},
   "outputs": [],
   "source": [
    "parameters = [\"chirp_mass\", \"mass_ratio\", \"chi_p\", \"chi_eff\", \"ra\", \"dec\", \"theta_jn\"]\n",
    "\n",
    "corner_kwargs = get_default_corner_kwargs()\n",
    "corner_kwargs[\"plot_density\"] = True\n",
    "corner_kwargs[\"plot_datapoints\"] = False\n",
    "corner_kwargs[\"no_fill_contours\"] = True\n",
    "corner_kwargs[\"show_titles\"] = False\n",
    "corner_kwargs.pop(\"fill_contours\")\n",
    "corner_kwargs[\"levels\"] = (1 - np.exp(-0.5), 1 - np.exp(-2), 1 - np.exp(-9 / 2.0))\n",
    "corner_kwargs[\"quantiles\"] = []\n",
    "corner_kwargs[\"smooth\"] = 0.9\n",
    "corner_kwargs[\"bins\"] = 32\n",
    "figsize = 1.8 * get_default_figsize()\n",
    "figsize[1] = figsize[0]\n",
    "fig = plt.figure(figsize=figsize)\n",
    "\n",
    "corner_kwargs[\"color\"] = \"k\"\n",
    "corner_kwargs[\"hist_kwargs\"][\"color\"] = \"k\"\n",
    "corner_kwargs[\"hist_kwargs\"][\"ls\"] = \"--\"\n",
    "fig = corner.corner(\n",
    "    np.array([gwtc2p1_result[p] for p in parameters]).T,\n",
    "    fig=fig,\n",
    "    contour_kwargs=dict(linestyles=[\"--\"]),\n",
    "    **corner_kwargs,\n",
    ")\n",
    "\n",
    "corner_kwargs[\"hist_kwargs\"][\"ls\"] = \"-\"\n",
    "corner_kwargs[\"color\"] = \"C0\"\n",
    "corner_kwargs[\"hist_kwargs\"][\"color\"] = \"C0\"\n",
    "fig = corner.corner(\n",
    "    np.array([nessai_xphm.posterior[p] for p in parameters]).T,\n",
    "    fig=fig,\n",
    "    labels=get_cbc_parameter_labels(parameters, units=True),\n",
    "    labelpad=-0.1,\n",
    "    **corner_kwargs,\n",
    ")\n",
    "\n",
    "corner_kwargs[\"hist_kwargs\"][\"ls\"] = \"-\"\n",
    "corner_kwargs[\"color\"] = \"C1\"\n",
    "corner_kwargs[\"hist_kwargs\"][\"color\"] = \"C1\"\n",
    "fig = corner.corner(\n",
    "    np.array([inessai_xphm.posterior[p] for p in parameters]).T,\n",
    "    fig=fig,\n",
    "    labels=get_cbc_parameter_labels(parameters, units=True),\n",
    "    labelpad=-0.1,\n",
    "    **corner_kwargs,\n",
    ")\n",
    "\n",
    "legend_elements = [\n",
    "    Line2D([0], [0], color=\"k\", ls=\"--\", label=r\"GWTC-2.1\"),\n",
    "    Line2D([0], [0], color=\"C0\", ls=\"-\", label=r\"\\texttt{nessai}\"),\n",
    "    Line2D([0], [0], color=\"C1\", ls=\"-\", label=r\"\\texttt{i-nessai}\"),\n",
    "]\n",
    "\n",
    "fig.legend(\n",
    "    handles=legend_elements,\n",
    "    bbox_to_anchor=(1.0, 0.9),\n",
    "    loc=\"upper right\",\n",
    "    fontsize=18,\n",
    ")\n",
    "plt.show()\n",
    "\n",
    "save_figure(fig, \"GW170823_posterior_XPHM\", \"figures/inessai/\")"
   ]
  },
  {
   "cell_type": "code",
   "execution_count": null,
   "metadata": {},
   "outputs": [],
   "source": []
  }
 ],
 "metadata": {
  "kernelspec": {
   "display_name": "nessai-review-gw",
   "language": "python",
   "name": "python3"
  },
  "language_info": {
   "codemirror_mode": {
    "name": "ipython",
    "version": 3
   },
   "file_extension": ".py",
   "mimetype": "text/x-python",
   "name": "python",
   "nbconvert_exporter": "python",
   "pygments_lexer": "ipython3",
   "version": "3.9.16"
  }
 },
 "nbformat": 4,
 "nbformat_minor": 2
}
