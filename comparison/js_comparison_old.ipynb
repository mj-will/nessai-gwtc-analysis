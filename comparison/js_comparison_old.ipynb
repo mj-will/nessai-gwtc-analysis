{
 "cells": [
  {
   "cell_type": "code",
   "execution_count": null,
   "metadata": {},
   "outputs": [],
   "source": [
    "import pandas as pd\n",
    "import csv\n",
    "import itertools\n",
    "import os\n",
    "import matplotlib.pyplot as plt\n",
    "import numpy as np\n",
    "import seaborn as sns\n",
    "from matplotlib.lines import Line2D\n",
    "\n",
    "from thesis_utils.plotting import set_plotting, get_default_figsize, save_figure\n",
    "from thesis_utils.gw import get_cbc_parameter_labels\n",
    "\n",
    "from utils import (\n",
    "    EVENTS,\n",
    "    get_min_n_samples,\n",
    "    load_js_data,\n",
    "    get_js_per_event,\n",
    "    get_js_per_parameter,\n",
    ")\n",
    "\n",
    "os.environ[\"HDF5_USE_FILE_LOCKING\"] = \"FALSE\"\n",
    "\n",
    "set_plotting()"
   ]
  },
  {
   "cell_type": "code",
   "execution_count": null,
   "metadata": {},
   "outputs": [],
   "source": [
    "n_samples = get_min_n_samples(\n",
    "    \"/home/michael.williams/git_repos/nessai-gwtc-1/comparison/gwtc-1/comparison/\",\n",
    "    EVENTS,\n",
    ")"
   ]
  },
  {
   "cell_type": "code",
   "execution_count": null,
   "metadata": {},
   "outputs": [],
   "source": [
    "data = load_js_data(\n",
    "    \"js_data\",\n",
    "    \"JS_test_total_XPHM.csv\",\n",
    "    EVENTS,\n",
    ")"
   ]
  },
  {
   "cell_type": "code",
   "execution_count": null,
   "metadata": {},
   "outputs": [],
   "source": [
    "parameters_to_plot = [\n",
    "    \"chirp_mass\",\n",
    "    \"mass_ratio\",\n",
    "    # \"mass_1\",\n",
    "    # \"mass_2\",\n",
    "    # \"a_1\",\n",
    "    # \"a_2\",\n",
    "    # \"tilt_1\",\n",
    "    # \"tilt_2\",\n",
    "    \"chi_eff\",\n",
    "    \"chi_p\",\n",
    "    \"ra\",\n",
    "    \"dec\",\n",
    "    \"theta_jn\",\n",
    "    \"luminosity_distance\",\n",
    "]"
   ]
  },
  {
   "cell_type": "code",
   "execution_count": null,
   "metadata": {},
   "outputs": [],
   "source": [
    "js_per_event = get_js_per_event(\n",
    "    data,\n",
    "    [\"GWTC-1\", \"nessai-Pv2\"],\n",
    "    parameters=parameters_to_plot,\n",
    ")\n",
    "js_per_parameter = get_js_per_parameter(\n",
    "    data,\n",
    "    [\"GWTC-1\", \"nessai-Pv2\"],\n",
    "    parameters=parameters_to_plot,\n",
    ")\n",
    "\n",
    "mean_js_per_event = {e: np.nanmean(js) for e, js in js_per_event.items()}\n",
    "min_event = min(mean_js_per_event, key=mean_js_per_event.get)\n",
    "max_event = max(mean_js_per_event, key=mean_js_per_event.get)\n",
    "print(f\"Event with lowest median JSD: {min_event}\")\n",
    "print(f\"Event with highest median JSD: {max_event}\")\n",
    "\n",
    "mean_js_per_param = {p: np.nanmean(js) for p, js in js_per_parameter.items()}\n",
    "min_param = min(mean_js_per_param, key=mean_js_per_param.get)\n",
    "max_param = max(mean_js_per_param, key=mean_js_per_param.get)\n",
    "print(f\"Parameter with lowest mean JSD: {min_param}\")\n",
    "print(f\"Parameter with highest mean JSD: {max_param}\")"
   ]
  },
  {
   "cell_type": "code",
   "execution_count": null,
   "metadata": {},
   "outputs": [],
   "source": [
    "comp_include = [\"GWTC-1\", \"nessai-Pv2\", \"nessai-XP\"]\n",
    "comb = list(itertools.combinations(comp_include, 2))\n",
    "print(comb)\n",
    "colours = sns.color_palette(\"colorblind\", n_colors=len(comb))\n",
    "markers = [\"^\", \".\", \"x\", \"*\", \"^\", \"x\"]\n",
    "\n",
    "xticklabels = get_cbc_parameter_labels(parameters_to_plot, units=False)"
   ]
  },
  {
   "cell_type": "code",
   "execution_count": null,
   "metadata": {},
   "outputs": [],
   "source": [
    "legend_elements = []\n",
    "for pair, colour, marker in zip(comb, colours, markers):\n",
    "    label = \"-\".join(pair)\n",
    "    legend_elements.append(\n",
    "        Line2D([0], [0], color=colour, marker=marker, label=label, ls=\"None\")\n",
    "    )"
   ]
  },
  {
   "cell_type": "code",
   "execution_count": null,
   "metadata": {},
   "outputs": [],
   "source": [
    "legend_elements = []\n",
    "for pair, colour, marker in zip(comb, colours, markers):\n",
    "    label = \"-\".join(pair)\n",
    "    legend_elements.append(\n",
    "        Line2D([0], [0], color=colour, marker=marker, label=label, ls=\"None\")\n",
    "    )"
   ]
  },
  {
   "cell_type": "code",
   "execution_count": null,
   "metadata": {},
   "outputs": [],
   "source": [
    "n_events = len(EVENTS)\n",
    "factor = np.log2(np.e)\n",
    "figsize = get_default_figsize()\n",
    "figsize[1] *= 2\n",
    "fig, axs = plt.subplots(n_events // 2, 2, sharey=True, figsize=figsize)\n",
    "axs = axs.ravel()\n",
    "jsd = dict()\n",
    "xticks = np.arange(len(parameters_to_plot))\n",
    "count = 0\n",
    "for (event, event_data), ax in zip(data.items(), axs):\n",
    "    jsd[event] = {}\n",
    "    ax.set_xticks(xticks)\n",
    "    ax.set_xticklabels(xticklabels)\n",
    "    ax.set_yscale(\"log\")\n",
    "    # ax.legend(handles=legend_elements)\n",
    "    if (count % 2) == 0:\n",
    "        ax.set_ylabel(\"JSD [bits]\")\n",
    "    ax.set_title(\n",
    "        f\"{event}: mean JSD={factor * mean_js_per_event[event]:.3f}\",\n",
    "        x=-0.0,\n",
    "        loc=\"left\",\n",
    "    )\n",
    "    ax.tick_params(axis=\"x\", which=\"minor\", bottom=False, top=False)\n",
    "    ax.tick_params(axis=\"y\", which=\"minor\", left=True, right=True)\n",
    "\n",
    "    if event_data is None:\n",
    "        continue\n",
    "\n",
    "    threshold = 10 / n_samples[event]\n",
    "    ax.axhline(threshold, color=\"grey\", zorder=-1)\n",
    "    offsets = np.linspace(-0.2, 0.2, 6, endpoint=True)\n",
    "    offsets = np.zeros(6)\n",
    "    for i, key in enumerate(parameters_to_plot):\n",
    "        js = event_data.get(key, None)\n",
    "        if js is None:\n",
    "            print(f\"Missing {key} for {event}\")\n",
    "            continue\n",
    "        for (\n",
    "            j,\n",
    "            (a, b),\n",
    "        ) in enumerate(comb):\n",
    "            value = np.log2(np.e) * float(js[a][b])\n",
    "            ax.scatter(i + offsets[j], value, marker=markers[j], color=colours[j])\n",
    "    count += 1\n",
    "\n",
    "ax.set_yticks([1e-4, 1e-3, 1e-2, 1e-1])\n",
    "\n",
    "fig.legend(\n",
    "    handles=legend_elements, ncol=3, loc=\"lower center\", bbox_to_anchor=(0.5, -0.05)\n",
    ")\n",
    "plt.tight_layout()\n",
    "plt.show()\n",
    "fig.savefig(\"figures/js_comparison_gwtc.png\")\n",
    "save_figure(fig, \"js_comparison_gwtc1\")"
   ]
  },
  {
   "cell_type": "code",
   "execution_count": null,
   "metadata": {},
   "outputs": [],
   "source": []
  }
 ],
 "metadata": {
  "kernelspec": {
   "display_name": "nessai-review-gw",
   "language": "python",
   "name": "python3"
  },
  "language_info": {
   "codemirror_mode": {
    "name": "ipython",
    "version": 3
   },
   "file_extension": ".py",
   "mimetype": "text/x-python",
   "name": "python",
   "nbconvert_exporter": "python",
   "pygments_lexer": "ipython3",
   "version": "3.9.16"
  }
 },
 "nbformat": 4,
 "nbformat_minor": 2
}
