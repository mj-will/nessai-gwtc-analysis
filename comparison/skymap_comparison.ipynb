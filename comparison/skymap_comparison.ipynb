{
 "cells": [
  {
   "cell_type": "code",
   "execution_count": null,
   "metadata": {},
   "outputs": [],
   "source": [
    "import os\n",
    "import pickle\n",
    "\n",
    "from astropy.coordinates import SkyCoord\n",
    "from astropy.time import Time\n",
    "from astropy import units as u\n",
    "import astropy_healpix as ah\n",
    "import ligo.skymap.plot\n",
    "import ligo.skymap.io\n",
    "import ligo.skymap.postprocess\n",
    "from matplotlib.lines import Line2D\n",
    "import matplotlib.pyplot as plt\n",
    "import numpy as np\n",
    "import seaborn as sns\n",
    "\n",
    "from thesis_utils.plotting import save_figure\n",
    "from utils import ANALYSIS_LABELS, EVENTS\n",
    "\n",
    "# set_plotting()\n",
    "# Breaks formatting for skymaps, so set manually\n",
    "sns.set_palette(\"colorblind\")\n",
    "plt.rcParams[\"figure.figsize\"] = (6.141732 / 1.5, 3.79579912579 / 1.5)\n",
    "plt.rcParams[\"text.usetex\"] = True\n",
    "plt.rcParams[\"font.family\"] = \"serif\"\n",
    "plt.rcParams[\"mathtext.fontset\"] = \"dejavuserif\""
   ]
  },
  {
   "cell_type": "code",
   "execution_count": null,
   "metadata": {},
   "outputs": [],
   "source": [
    "base_path = \"skymaps\"\n",
    "analyses = [\"GWTC-2\", \"nessai-XPHM\"]\n",
    "colours = [\"C0\", \"C1\"]"
   ]
  },
  {
   "cell_type": "code",
   "execution_count": null,
   "metadata": {},
   "outputs": [],
   "source": [
    "# Based on https://git.ligo.org/lscsoft/ligo.skymap/-/blob/main/ligo/skymap/tool/ligo_skymap_plot.pyb\n",
    "\n",
    "for event in EVENTS:\n",
    "    fig = plt.figure()\n",
    "    ax = plt.axes(\n",
    "        projection=\"astro degrees mollweide\",\n",
    "        # center=SkyCoord(\"150deg -70deg\"),\n",
    "        # radius=\"20deg\",\n",
    "    )\n",
    "    ax.grid()\n",
    "\n",
    "    contours = [50, 90]\n",
    "    text = []\n",
    "    lw = 0.8\n",
    "\n",
    "    for analysis, colour in zip(analyses, colours):\n",
    "        fits_file = os.path.join(base_path, event, analysis, \"skymap.fits\")\n",
    "\n",
    "        skymap, metadata = ligo.skymap.io.fits.read_sky_map(fits_file)\n",
    "        nside = ah.npix_to_nside(len(skymap))\n",
    "        deg2perpix = ah.nside_to_pixel_area(nside).to_value(u.deg**2)\n",
    "        probperdeg2 = skymap / deg2perpix\n",
    "\n",
    "        cls = 100 * ligo.skymap.postprocess.find_greedy_credible_levels(skymap)\n",
    "        cs = ax.contour_hpx(\n",
    "            (cls, \"ICRS\"),\n",
    "            # nested=metadata['nest'],\n",
    "            colors=colour,\n",
    "            linewidths=lw,\n",
    "            levels=contours,\n",
    "        )\n",
    "        pp = np.round(contours).astype(int)\n",
    "        ii = np.round(np.searchsorted(np.sort(cls), contours) * deg2perpix).astype(int)\n",
    "        text_areas = []\n",
    "        for i, p in zip(ii, pp):\n",
    "            text_areas.append(f\"{p:d}\\%: {i:,d}\" + r\"$\\;\\textrm{deg}^{2}$\")\n",
    "        text.append(f\"{ANALYSIS_LABELS.get(analysis)}: {', '.join(text_areas)}\")\n",
    "\n",
    "    handle_elements = [\n",
    "        Line2D([0], [0], color=\"C0\", label=text[0], lw=lw),\n",
    "        Line2D([0], [0], color=\"C1\", label=text[1], lw=lw),\n",
    "    ]\n",
    "\n",
    "    # ax.text(1, -0.15, '\\n'.join(text), transform=ax.transAxes, ha='right')\n",
    "    # ax.text(0, 1, event, transform=ax.transAxes, ha='left', fontsize=14)\n",
    "    plt.legend(\n",
    "        handles=handle_elements,\n",
    "        frameon=False,\n",
    "        # loc=\"lower right\",\n",
    "        bbox_to_anchor=(1.1, 0.0),\n",
    "    )\n",
    "    plt.show()\n",
    "    save_figure(fig, f\"{event}_skymap\", \"figures/skymaps/\", bbox_inches=\"tight\")"
   ]
  },
  {
   "cell_type": "code",
   "execution_count": null,
   "metadata": {},
   "outputs": [],
   "source": []
  },
  {
   "cell_type": "code",
   "execution_count": null,
   "metadata": {},
   "outputs": [],
   "source": []
  },
  {
   "cell_type": "code",
   "execution_count": null,
   "metadata": {},
   "outputs": [],
   "source": []
  }
 ],
 "metadata": {
  "kernelspec": {
   "display_name": "nessai-review-gw",
   "language": "python",
   "name": "python3"
  },
  "language_info": {
   "codemirror_mode": {
    "name": "ipython",
    "version": 3
   },
   "file_extension": ".py",
   "mimetype": "text/x-python",
   "name": "python",
   "nbconvert_exporter": "python",
   "pygments_lexer": "ipython3",
   "version": "3.9.16"
  }
 },
 "nbformat": 4,
 "nbformat_minor": 2
}
