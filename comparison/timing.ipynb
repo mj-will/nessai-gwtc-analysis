{
 "cells": [
  {
   "cell_type": "code",
   "execution_count": null,
   "metadata": {
    "execution": {
     "iopub.execute_input": "2023-05-25T14:24:22.381095Z",
     "iopub.status.busy": "2023-05-25T14:24:22.380844Z",
     "iopub.status.idle": "2023-05-25T14:24:24.167116Z",
     "shell.execute_reply": "2023-05-25T14:24:24.166141Z"
    }
   },
   "outputs": [],
   "source": [
    "import bilby\n",
    "import glob\n",
    "import os\n",
    "\n",
    "os.environ[\"HDF5_USE_FILE_LOCKING\"] = \"FALSE\"\n",
    "\n",
    "import h5py\n",
    "\n",
    "import matplotlib.pyplot as plt\n",
    "from matplotlib.patches import Patch\n",
    "import numpy as np\n",
    "\n",
    "from utils import EVENTS\n",
    "from thesis_utils.plotting import set_plotting, save_figure\n",
    "\n",
    "set_plotting()"
   ]
  },
  {
   "cell_type": "code",
   "execution_count": null,
   "metadata": {
    "execution": {
     "iopub.execute_input": "2023-05-25T14:24:24.170440Z",
     "iopub.status.busy": "2023-05-25T14:24:24.169949Z",
     "iopub.status.idle": "2023-05-25T14:24:24.173396Z",
     "shell.execute_reply": "2023-05-25T14:24:24.172819Z"
    }
   },
   "outputs": [],
   "source": [
    "paths = [\"../analysis/IMRPhenomXPHM/\", \"../analysis/IMRPhenomXP/\"]\n",
    "labels = [\"XPHM\", \"XP\"]"
   ]
  },
  {
   "cell_type": "code",
   "execution_count": null,
   "metadata": {
    "execution": {
     "iopub.execute_input": "2023-05-25T14:24:24.175829Z",
     "iopub.status.busy": "2023-05-25T14:24:24.175556Z",
     "iopub.status.idle": "2023-05-25T14:24:28.285308Z",
     "shell.execute_reply": "2023-05-25T14:24:28.284416Z"
    }
   },
   "outputs": [],
   "source": [
    "results = {}\n",
    "for label, path in zip(labels, paths):\n",
    "    data = {}\n",
    "    for event in EVENTS:\n",
    "        data[event] = {\"sampling_time\": [], \"likelihood_evaluations\": []}\n",
    "        result_files = glob.glob(\n",
    "            f\"{path}/outdir_nessai_gwtc_1_{event}_*{label}/result/*par*.hdf5\"\n",
    "        )\n",
    "        for rf in result_files:\n",
    "            if os.path.getsize(rf) == 0:\n",
    "                data[event][\"sampling_time\"].append(np.nan)\n",
    "                data[event][\"likelihood_evaluations\"].append(np.nan)\n",
    "                continue\n",
    "            with h5py.File(rf, \"r\") as f:\n",
    "                sampling_time = f[\"sampling_time\"][()]\n",
    "                likelihood_evaluations = f[\"num_likelihood_evaluations\"][()]\n",
    "            data[event][\"sampling_time\"].append(sampling_time)\n",
    "            data[event][\"likelihood_evaluations\"].append(likelihood_evaluations)\n",
    "    results[label] = data"
   ]
  },
  {
   "cell_type": "code",
   "execution_count": null,
   "metadata": {
    "execution": {
     "iopub.execute_input": "2023-05-25T14:24:28.288291Z",
     "iopub.status.busy": "2023-05-25T14:24:28.287958Z",
     "iopub.status.idle": "2023-05-25T14:24:37.566634Z",
     "shell.execute_reply": "2023-05-25T14:24:37.566001Z"
    }
   },
   "outputs": [],
   "source": [
    "nessai_results = {}\n",
    "for label, path in zip(labels, paths):\n",
    "    data = {}\n",
    "    for event in EVENTS:\n",
    "        data[event] = {\n",
    "            \"training_time\": [],\n",
    "            \"population_time\": [],\n",
    "            \"likelihood_evaluation_time\": [],\n",
    "            \"sampling_time\": [],\n",
    "            \"likelihood_evaluations\": [],\n",
    "        }\n",
    "        result_files = glob.glob(\n",
    "            f\"{path}/outdir_nessai_gwtc_1_{event}_*{label}/result/*_nessai/result.hdf5\"\n",
    "        )\n",
    "        for rf in result_files:\n",
    "            if os.path.getsize(rf) == 0:\n",
    "                data[event][\"sampling_time\"].append(np.nan)\n",
    "                data[event][\"training_time\"].append(np.nan)\n",
    "                data[event][\"population_time\"].append(np.nan)\n",
    "                data[event][\"likelihood_evaluation_time\"].append(np.nan)\n",
    "                data[event][\"likelihood_evaluations\"].append(np.nan)\n",
    "                continue\n",
    "            with h5py.File(rf, \"r\") as f:\n",
    "                data[event][\"sampling_time\"].append(f[\"sampling_time\"][()])\n",
    "                data[event][\"training_time\"].append(f[\"training_time\"][()])\n",
    "                data[event][\"population_time\"].append(\n",
    "                    f[\"population_time\"][()] - f[\"likelihood_evaluation_time\"][()]\n",
    "                )\n",
    "                data[event][\"likelihood_evaluations\"].append(\n",
    "                    f[\"total_likelihood_evaluations\"][()]\n",
    "                )\n",
    "                data[event][\"likelihood_evaluation_time\"].append(\n",
    "                    f[\"likelihood_evaluation_time\"][()]\n",
    "                )\n",
    "    nessai_results[label] = data"
   ]
  },
  {
   "cell_type": "code",
   "execution_count": null,
   "metadata": {
    "execution": {
     "iopub.execute_input": "2023-05-25T14:24:37.569323Z",
     "iopub.status.busy": "2023-05-25T14:24:37.569028Z",
     "iopub.status.idle": "2023-05-25T14:24:37.575086Z",
     "shell.execute_reply": "2023-05-25T14:24:37.574585Z"
    }
   },
   "outputs": [],
   "source": [
    "results[\"XPHM\"][\"GW150914\"][\"sampling_time\"]"
   ]
  },
  {
   "cell_type": "code",
   "execution_count": null,
   "metadata": {
    "execution": {
     "iopub.execute_input": "2023-05-25T14:24:37.612709Z",
     "iopub.status.busy": "2023-05-25T14:24:37.612393Z",
     "iopub.status.idle": "2023-05-25T14:24:37.615629Z",
     "shell.execute_reply": "2023-05-25T14:24:37.615087Z"
    }
   },
   "outputs": [],
   "source": [
    "events = list(results[labels[0]].keys())"
   ]
  },
  {
   "cell_type": "code",
   "execution_count": null,
   "metadata": {
    "execution": {
     "iopub.execute_input": "2023-05-25T14:24:37.617766Z",
     "iopub.status.busy": "2023-05-25T14:24:37.617527Z",
     "iopub.status.idle": "2023-05-25T14:24:37.620514Z",
     "shell.execute_reply": "2023-05-25T14:24:37.620017Z"
    }
   },
   "outputs": [],
   "source": [
    "import seaborn as sns\n",
    "\n",
    "event_colours = sns.color_palette(\"colorblind\", n_colors=len(events))"
   ]
  },
  {
   "cell_type": "code",
   "execution_count": null,
   "metadata": {
    "execution": {
     "iopub.execute_input": "2023-05-25T14:24:37.622496Z",
     "iopub.status.busy": "2023-05-25T14:24:37.622258Z",
     "iopub.status.idle": "2023-05-25T14:24:37.624891Z",
     "shell.execute_reply": "2023-05-25T14:24:37.624418Z"
    }
   },
   "outputs": [],
   "source": [
    "analysis_markers = [\n",
    "    10 * [\"s\"],\n",
    "    10 * [\"o\"],\n",
    "]"
   ]
  },
  {
   "cell_type": "code",
   "execution_count": null,
   "metadata": {
    "execution": {
     "iopub.execute_input": "2023-05-25T14:24:37.626902Z",
     "iopub.status.busy": "2023-05-25T14:24:37.626663Z",
     "iopub.status.idle": "2023-05-25T14:24:37.629286Z",
     "shell.execute_reply": "2023-05-25T14:24:37.628788Z"
    }
   },
   "outputs": [],
   "source": [
    "from matplotlib.lines import Line2D"
   ]
  },
  {
   "cell_type": "code",
   "execution_count": null,
   "metadata": {
    "execution": {
     "iopub.execute_input": "2023-05-25T14:24:37.631348Z",
     "iopub.status.busy": "2023-05-25T14:24:37.631116Z",
     "iopub.status.idle": "2023-05-25T14:24:37.637002Z",
     "shell.execute_reply": "2023-05-25T14:24:37.636474Z"
    }
   },
   "outputs": [],
   "source": [
    "legend_elements = []\n",
    "for event, event_colour, marker in zip(EVENTS, event_colours, analysis_markers[0]):\n",
    "    legend_elements.append(\n",
    "        Line2D([], [], color=event_colour, marker=\"None\", label=event, ls=\"-\", lw=2.0)\n",
    "    )\n",
    "\n",
    "legend_elements.append(\n",
    "    Line2D([], [], color=\"k\", marker=\"o\", label=\"IMRPhenomXP\", ls=\"None\"),\n",
    ")\n",
    "legend_elements.append(\n",
    "    Line2D([], [], color=\"k\", marker=\"s\", label=\"IMRPhenomXPHM\", ls=\"None\")\n",
    ")\n",
    "legend_elements += 8 * [Line2D([], [], marker=\"\", ls=\"None\")]"
   ]
  },
  {
   "cell_type": "code",
   "execution_count": null,
   "metadata": {
    "execution": {
     "iopub.execute_input": "2023-05-25T14:24:37.639260Z",
     "iopub.status.busy": "2023-05-25T14:24:37.638984Z",
     "iopub.status.idle": "2023-05-25T14:24:39.411523Z",
     "shell.execute_reply": "2023-05-25T14:24:39.410832Z"
    }
   },
   "outputs": [],
   "source": [
    "fig = plt.figure()\n",
    "for (label, data), markers in zip(results.items(), analysis_markers):\n",
    "    for event, event_colour, marker in zip(events, event_colours, markers):\n",
    "        times = np.array(data[event][\"sampling_time\"]) / 3600\n",
    "        evals = np.array(data[event][\"likelihood_evaluations\"])\n",
    "\n",
    "        plt.plot(times, evals, color=event_colour, marker=marker)\n",
    "plt.legend(handles=legend_elements, ncol=2, loc=2)\n",
    "plt.xscale(\"log\")\n",
    "plt.yscale(\"log\")\n",
    "plt.xlabel(\"Wall time [hrs]\")\n",
    "plt.ylabel(\"Likelihood evaluations\")\n",
    "plt.show()\n",
    "save_figure(fig, \"timing_XP_vs_XPHM\", \"figures/timing/\")"
   ]
  },
  {
   "cell_type": "code",
   "execution_count": null,
   "metadata": {
    "execution": {
     "iopub.execute_input": "2023-05-25T14:24:39.414621Z",
     "iopub.status.busy": "2023-05-25T14:24:39.414144Z",
     "iopub.status.idle": "2023-05-25T14:24:39.417508Z",
     "shell.execute_reply": "2023-05-25T14:24:39.416984Z"
    }
   },
   "outputs": [],
   "source": [
    "hatch = {\n",
    "    \"training\": \"||\",\n",
    "    \"likelihood\": \"//\",\n",
    "    \"population\": \"\\\\\",\n",
    "}"
   ]
  },
  {
   "cell_type": "code",
   "execution_count": null,
   "metadata": {
    "execution": {
     "iopub.execute_input": "2023-05-25T14:24:39.419793Z",
     "iopub.status.busy": "2023-05-25T14:24:39.419528Z",
     "iopub.status.idle": "2023-05-25T14:24:39.424231Z",
     "shell.execute_reply": "2023-05-25T14:24:39.423683Z"
    }
   },
   "outputs": [],
   "source": [
    "ratios = {}\n",
    "for analysis, event_data in nessai_results.items():\n",
    "    ratios[analysis] = {}\n",
    "    for event, data in event_data.items():\n",
    "        ratios[analysis][event] = {}\n",
    "        ratios[analysis][event][\"likelihood\"] = np.array(\n",
    "            data[\"likelihood_evaluation_time\"]\n",
    "        ) / np.array(data[\"sampling_time\"])\n",
    "        ratios[analysis][event][\"population\"] = np.array(\n",
    "            data[\"population_time\"]\n",
    "        ) / np.array(data[\"sampling_time\"])\n",
    "        ratios[analysis][event][\"training\"] = np.array(\n",
    "            data[\"training_time\"]\n",
    "        ) / np.array(data[\"sampling_time\"])"
   ]
  },
  {
   "cell_type": "code",
   "execution_count": null,
   "metadata": {
    "execution": {
     "iopub.execute_input": "2023-05-25T14:24:39.426390Z",
     "iopub.status.busy": "2023-05-25T14:24:39.426089Z",
     "iopub.status.idle": "2023-05-25T14:24:39.428960Z",
     "shell.execute_reply": "2023-05-25T14:24:39.428430Z"
    }
   },
   "outputs": [],
   "source": [
    "labels = {\n",
    "    \"likelihood\": \"Likelihood\",\n",
    "    \"population\": \"Population\",\n",
    "    \"training\": \"Training\",\n",
    "}"
   ]
  },
  {
   "cell_type": "code",
   "execution_count": null,
   "metadata": {
    "execution": {
     "iopub.execute_input": "2023-05-25T14:24:39.431148Z",
     "iopub.status.busy": "2023-05-25T14:24:39.430859Z",
     "iopub.status.idle": "2023-05-25T14:24:39.435298Z",
     "shell.execute_reply": "2023-05-25T14:24:39.434763Z"
    }
   },
   "outputs": [],
   "source": [
    "def lighten_colour(color, amount=0.5):\n",
    "    \"\"\"\n",
    "    Lightens the given color by multiplying (1-luminosity) by the given amount.\n",
    "    Input can be matplotlib color string, hex string, or RGB tuple.\n",
    "\n",
    "    See: https://gist.github.com/ihincks/6a420b599f43fcd7dbd79d56798c4e5a\n",
    "\n",
    "    Examples:\n",
    "    >> lighten_color('g', 0.3)\n",
    "    >> lighten_color('#F034A3', 0.6)\n",
    "    >> lighten_color((.3,.55,.1), 0.5)\n",
    "    \"\"\"\n",
    "    import matplotlib.colors as mc\n",
    "    import colorsys\n",
    "\n",
    "    try:\n",
    "        c = mc.cnames[color]\n",
    "    except:\n",
    "        c = color\n",
    "    c = colorsys.rgb_to_hls(*mc.to_rgb(c))\n",
    "    return colorsys.hls_to_rgb(c[0], 1 - amount * (1 - c[1]), c[2])"
   ]
  },
  {
   "cell_type": "code",
   "execution_count": null,
   "metadata": {
    "execution": {
     "iopub.execute_input": "2023-05-25T14:24:39.437480Z",
     "iopub.status.busy": "2023-05-25T14:24:39.437191Z",
     "iopub.status.idle": "2023-05-25T14:24:39.440092Z",
     "shell.execute_reply": "2023-05-25T14:24:39.439535Z"
    }
   },
   "outputs": [],
   "source": [
    "analyses = [\"XP\", \"XPHM\"]"
   ]
  },
  {
   "cell_type": "code",
   "execution_count": null,
   "metadata": {
    "execution": {
     "iopub.execute_input": "2023-05-25T14:24:39.442240Z",
     "iopub.status.busy": "2023-05-25T14:24:39.441942Z",
     "iopub.status.idle": "2023-05-25T14:24:39.446172Z",
     "shell.execute_reply": "2023-05-25T14:24:39.445643Z"
    }
   },
   "outputs": [],
   "source": [
    "legend_elements = []\n",
    "fraction = 1.0\n",
    "for i, k in enumerate(ratios[\"XPHM\"][\"GW150914\"].keys()):\n",
    "    legend_elements.append(\n",
    "        Patch(facecolor=lighten_colour(\"grey\", fraction), label=labels.get(k))\n",
    "    )\n",
    "    fraction -= 1 / 3.5"
   ]
  },
  {
   "cell_type": "code",
   "execution_count": null,
   "metadata": {
    "execution": {
     "iopub.execute_input": "2023-05-25T14:24:39.448368Z",
     "iopub.status.busy": "2023-05-25T14:24:39.448074Z",
     "iopub.status.idle": "2023-05-25T14:24:39.451544Z",
     "shell.execute_reply": "2023-05-25T14:24:39.451007Z"
    }
   },
   "outputs": [],
   "source": [
    "event_durations = {\n",
    "    \"GW150914\": 4,\n",
    "    \"GW151012\": 8,\n",
    "    \"GW151226\": 16,\n",
    "    \"GW170104\": 8,\n",
    "    \"GW170608\": 16,\n",
    "    \"GW170729\": 4,\n",
    "    \"GW170809\": 4,\n",
    "    \"GW170814\": 4,\n",
    "    \"GW170818\": 4,\n",
    "    \"GW170823\": 4,\n",
    "}"
   ]
  },
  {
   "cell_type": "code",
   "execution_count": null,
   "metadata": {
    "execution": {
     "iopub.execute_input": "2023-05-25T14:24:39.453806Z",
     "iopub.status.busy": "2023-05-25T14:24:39.453547Z",
     "iopub.status.idle": "2023-05-25T14:24:39.456311Z",
     "shell.execute_reply": "2023-05-25T14:24:39.455807Z"
    }
   },
   "outputs": [],
   "source": [
    "event_order = sorted(event_durations, key=event_durations.get)"
   ]
  },
  {
   "cell_type": "code",
   "execution_count": null,
   "metadata": {
    "execution": {
     "iopub.execute_input": "2023-05-25T14:24:39.458867Z",
     "iopub.status.busy": "2023-05-25T14:24:39.458618Z",
     "iopub.status.idle": "2023-05-25T14:24:39.461491Z",
     "shell.execute_reply": "2023-05-25T14:24:39.460985Z"
    }
   },
   "outputs": [],
   "source": [
    "events_4s = event_order[:6]\n",
    "events_8s = event_order[6:8]\n",
    "events_16s = event_order[8:]"
   ]
  },
  {
   "cell_type": "code",
   "execution_count": null,
   "metadata": {
    "execution": {
     "iopub.execute_input": "2023-05-25T14:24:39.463900Z",
     "iopub.status.busy": "2023-05-25T14:24:39.463533Z",
     "iopub.status.idle": "2023-05-25T14:24:41.414233Z",
     "shell.execute_reply": "2023-05-25T14:24:41.413646Z"
    }
   },
   "outputs": [],
   "source": [
    "fig, axs = plt.subplots(\n",
    "    2,\n",
    "    3,\n",
    "    sharex=\"col\",\n",
    "    sharey=True,\n",
    "    gridspec_kw=dict(\n",
    "        width_ratios=[6, 2, 2],\n",
    "        wspace=0.1,\n",
    "    ),\n",
    ")\n",
    "colours = {\n",
    "    e: c for e, c in zip(events, sns.color_palette(\"colorblind\", n_colors=len(events)))\n",
    "}\n",
    "offset = [-0.3, 0.3]\n",
    "width = 0.6\n",
    "for m, subset_events in enumerate([events_4s, events_8s, events_16s]):\n",
    "    xticks = 2 * np.arange(len(subset_events))\n",
    "    for n, analysis in enumerate(analyses):\n",
    "        for i, event in enumerate(subset_events):\n",
    "            for j in range(2):\n",
    "                bottom = 0\n",
    "                fraction = 1.0\n",
    "                for key, data in ratios[analysis][event].items():\n",
    "                    axs[n, m].bar(\n",
    "                        xticks[i] + offset[j],\n",
    "                        data[j],\n",
    "                        facecolor=lighten_colour(colours[event], fraction),\n",
    "                        # hatch=hatch.get(key),\n",
    "                        bottom=bottom,\n",
    "                        width=width,\n",
    "                    )\n",
    "                    bottom += data[j]\n",
    "                    fraction -= 1 / 3.5\n",
    "\n",
    "        axs[n, m].set_xticks(xticks, labels=subset_events, rotation=45)\n",
    "        axs[n, m].tick_params(which=\"minor\", top=False, bottom=False)\n",
    "\n",
    "axs[0, 0].set_ylabel(\"Fraction of time\")\n",
    "axs[1, 0].set_ylabel(\"Fraction of time\")\n",
    "\n",
    "axs[0, 0].set_title(r\"\\texttt{IMRPhenomXP}\", loc=\"left\")\n",
    "axs[1, 0].set_title(r\"\\texttt{IMRPhenomXPHM}\", loc=\"left\")\n",
    "\n",
    "axs[0, 0].text(\n",
    "    0.5, 1.05, r\"$4\\;\\textrm{s}$\", transform=axs[0, 0].transAxes, ha=\"center\"\n",
    ")\n",
    "axs[0, 1].text(\n",
    "    0.5, 1.05, r\"$8\\;\\textrm{s}$\", transform=axs[0, 1].transAxes, ha=\"center\"\n",
    ")\n",
    "axs[0, 2].text(\n",
    "    0.5, 1.05, r\"$16\\;\\textrm{s}$\", transform=axs[0, 2].transAxes, ha=\"center\"\n",
    ")\n",
    "\n",
    "fig.legend(handles=legend_elements, ncol=3, loc=\"center\", bbox_to_anchor=(0.5, -0.1))\n",
    "# plt.yscale(\"log\")\n",
    "plt.tight_layout()\n",
    "\n",
    "save_figure(fig, \"fraction_of_time\", \"figures/timing/\")\n",
    "plt.show()"
   ]
  },
  {
   "cell_type": "code",
   "execution_count": null,
   "metadata": {},
   "outputs": [],
   "source": []
  }
 ],
 "metadata": {
  "kernelspec": {
   "display_name": "nessai-review-gw",
   "language": "python",
   "name": "python3"
  },
  "language_info": {
   "codemirror_mode": {
    "name": "ipython",
    "version": 3
   },
   "file_extension": ".py",
   "mimetype": "text/x-python",
   "name": "python",
   "nbconvert_exporter": "python",
   "pygments_lexer": "ipython3",
   "version": "3.9.16"
  }
 },
 "nbformat": 4,
 "nbformat_minor": 2
}
